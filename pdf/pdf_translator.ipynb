{
 "cells": [
  {
   "cell_type": "code",
   "execution_count": 1,
   "metadata": {},
   "outputs": [
    {
     "name": "stdout",
     "output_type": "stream",
     "text": [
      "Defaulting to user installation because normal site-packages is not writeable\n",
      "Requirement already satisfied: pdf2zh in /Users/jeongmin/Library/Python/3.9/lib/python/site-packages (1.8.8)\n",
      "Requirement already satisfied: azure-ai-translation-text<=1.0.1 in /Users/jeongmin/Library/Python/3.9/lib/python/site-packages (from pdf2zh) (1.0.1)\n",
      "Requirement already satisfied: deepl in /Users/jeongmin/Library/Python/3.9/lib/python/site-packages (from pdf2zh) (1.20.0)\n",
      "Requirement already satisfied: gradio in /Users/jeongmin/Library/Python/3.9/lib/python/site-packages (from pdf2zh) (4.44.1)\n",
      "Requirement already satisfied: gradio-pdf in /Users/jeongmin/Library/Python/3.9/lib/python/site-packages (from pdf2zh) (0.0.21)\n",
      "Requirement already satisfied: huggingface-hub in /Users/jeongmin/Library/Python/3.9/lib/python/site-packages (from pdf2zh) (0.20.3)\n",
      "Requirement already satisfied: numpy in /Library/Python/3.9/site-packages (from pdf2zh) (1.26.4)\n",
      "Requirement already satisfied: ollama in /Users/jeongmin/Library/Python/3.9/lib/python/site-packages (from pdf2zh) (0.4.5)\n",
      "Requirement already satisfied: onnx in /Users/jeongmin/Library/Python/3.9/lib/python/site-packages (from pdf2zh) (1.16.1)\n",
      "Requirement already satisfied: onnxruntime in /Users/jeongmin/Library/Python/3.9/lib/python/site-packages (from pdf2zh) (1.18.1)\n",
      "Requirement already satisfied: openai in /Users/jeongmin/Library/Python/3.9/lib/python/site-packages (from pdf2zh) (1.35.4)\n",
      "Requirement already satisfied: opencv-python-headless in /Users/jeongmin/Library/Python/3.9/lib/python/site-packages (from pdf2zh) (4.10.0.84)\n",
      "Requirement already satisfied: pdfminer-six>=20240706 in /Users/jeongmin/Library/Python/3.9/lib/python/site-packages (from pdf2zh) (20240706)\n",
      "Requirement already satisfied: pymupdf in /Users/jeongmin/Library/Python/3.9/lib/python/site-packages (from pdf2zh) (1.25.1)\n",
      "Requirement already satisfied: requests in /Library/Python/3.9/site-packages (from pdf2zh) (2.31.0)\n",
      "Requirement already satisfied: tenacity in /Users/jeongmin/Library/Python/3.9/lib/python/site-packages (from pdf2zh) (8.4.2)\n",
      "Requirement already satisfied: tencentcloud-sdk-python in /Users/jeongmin/Library/Python/3.9/lib/python/site-packages (from pdf2zh) (3.0.1294)\n",
      "Requirement already satisfied: tqdm in /Library/Python/3.9/site-packages (from pdf2zh) (4.66.4)\n",
      "Requirement already satisfied: isodate>=0.6.1 in /Users/jeongmin/Library/Python/3.9/lib/python/site-packages (from azure-ai-translation-text<=1.0.1->pdf2zh) (0.7.2)\n",
      "Requirement already satisfied: azure-core>=1.30.0 in /Users/jeongmin/Library/Python/3.9/lib/python/site-packages (from azure-ai-translation-text<=1.0.1->pdf2zh) (1.32.0)\n",
      "Requirement already satisfied: typing-extensions>=4.6.0 in /Users/jeongmin/Library/Python/3.9/lib/python/site-packages (from azure-ai-translation-text<=1.0.1->pdf2zh) (4.12.2)\n",
      "Requirement already satisfied: charset-normalizer>=2.0.0 in /Library/Python/3.9/site-packages (from pdfminer-six>=20240706->pdf2zh) (3.3.2)\n",
      "Requirement already satisfied: cryptography>=36.0.0 in /Users/jeongmin/Library/Python/3.9/lib/python/site-packages (from pdfminer-six>=20240706->pdf2zh) (44.0.0)\n",
      "Requirement already satisfied: idna<4,>=2.5 in /Library/Python/3.9/site-packages (from requests->pdf2zh) (3.7)\n",
      "Requirement already satisfied: urllib3<3,>=1.21.1 in /Library/Python/3.9/site-packages (from requests->pdf2zh) (2.2.1)\n",
      "Requirement already satisfied: certifi>=2017.4.17 in /Library/Python/3.9/site-packages (from requests->pdf2zh) (2024.2.2)\n",
      "Requirement already satisfied: aiofiles<24.0,>=22.0 in /Users/jeongmin/Library/Python/3.9/lib/python/site-packages (from gradio->pdf2zh) (23.2.1)\n",
      "Requirement already satisfied: anyio<5.0,>=3.0 in /Library/Python/3.9/site-packages (from gradio->pdf2zh) (4.3.0)\n",
      "Requirement already satisfied: fastapi<1.0 in /Users/jeongmin/Library/Python/3.9/lib/python/site-packages (from gradio->pdf2zh) (0.111.0)\n",
      "Requirement already satisfied: ffmpy in /Users/jeongmin/Library/Python/3.9/lib/python/site-packages (from gradio->pdf2zh) (0.5.0)\n",
      "Requirement already satisfied: gradio-client==1.3.0 in /Users/jeongmin/Library/Python/3.9/lib/python/site-packages (from gradio->pdf2zh) (1.3.0)\n",
      "Requirement already satisfied: httpx>=0.24.1 in /Library/Python/3.9/site-packages (from gradio->pdf2zh) (0.27.0)\n",
      "Requirement already satisfied: importlib-resources<7.0,>=1.3 in /Library/Python/3.9/site-packages (from gradio->pdf2zh) (6.4.0)\n",
      "Requirement already satisfied: jinja2<4.0 in /Library/Python/3.9/site-packages (from gradio->pdf2zh) (3.1.4)\n",
      "Requirement already satisfied: markupsafe~=2.0 in /Library/Python/3.9/site-packages (from gradio->pdf2zh) (2.1.5)\n",
      "Requirement already satisfied: matplotlib~=3.0 in /Users/jeongmin/Library/Python/3.9/lib/python/site-packages (from gradio->pdf2zh) (3.9.0)\n",
      "Requirement already satisfied: orjson~=3.0 in /Users/jeongmin/Library/Python/3.9/lib/python/site-packages (from gradio->pdf2zh) (3.10.5)\n",
      "Requirement already satisfied: packaging in /Library/Python/3.9/site-packages (from gradio->pdf2zh) (24.0)\n",
      "Requirement already satisfied: pandas<3.0,>=1.0 in /Library/Python/3.9/site-packages (from gradio->pdf2zh) (2.2.2)\n",
      "Requirement already satisfied: pillow<11.0,>=8.0 in /Library/Python/3.9/site-packages (from gradio->pdf2zh) (10.3.0)\n",
      "Requirement already satisfied: pydantic>=2.0 in /Users/jeongmin/Library/Python/3.9/lib/python/site-packages (from gradio->pdf2zh) (2.10.4)\n",
      "Requirement already satisfied: pydub in /Users/jeongmin/Library/Python/3.9/lib/python/site-packages (from gradio->pdf2zh) (0.25.1)\n",
      "Requirement already satisfied: python-multipart>=0.0.9 in /Library/Python/3.9/site-packages (from gradio->pdf2zh) (0.0.9)\n",
      "Requirement already satisfied: pyyaml<7.0,>=5.0 in /Library/Python/3.9/site-packages (from gradio->pdf2zh) (6.0.1)\n",
      "Requirement already satisfied: ruff>=0.2.2 in /Users/jeongmin/Library/Python/3.9/lib/python/site-packages (from gradio->pdf2zh) (0.8.4)\n",
      "Requirement already satisfied: semantic-version~=2.0 in /Users/jeongmin/Library/Python/3.9/lib/python/site-packages (from gradio->pdf2zh) (2.10.0)\n",
      "Requirement already satisfied: tomlkit==0.12.0 in /Users/jeongmin/Library/Python/3.9/lib/python/site-packages (from gradio->pdf2zh) (0.12.0)\n",
      "Requirement already satisfied: typer<1.0,>=0.12 in /Users/jeongmin/Library/Python/3.9/lib/python/site-packages (from gradio->pdf2zh) (0.12.3)\n",
      "Requirement already satisfied: uvicorn>=0.14.0 in /Library/Python/3.9/site-packages (from gradio->pdf2zh) (0.29.0)\n",
      "Requirement already satisfied: fsspec in /Library/Python/3.9/site-packages (from gradio-client==1.3.0->gradio->pdf2zh) (2024.3.1)\n",
      "Requirement already satisfied: websockets<13.0,>=10.0 in /Users/jeongmin/Library/Python/3.9/lib/python/site-packages (from gradio-client==1.3.0->gradio->pdf2zh) (12.0)\n",
      "Requirement already satisfied: filelock in /Library/Python/3.9/site-packages (from huggingface-hub->pdf2zh) (3.14.0)\n",
      "Requirement already satisfied: protobuf>=3.20.2 in /Users/jeongmin/Library/Python/3.9/lib/python/site-packages (from onnx->pdf2zh) (5.27.2)\n",
      "Requirement already satisfied: coloredlogs in /Users/jeongmin/Library/Python/3.9/lib/python/site-packages (from onnxruntime->pdf2zh) (15.0.1)\n",
      "Requirement already satisfied: flatbuffers in /Users/jeongmin/Library/Python/3.9/lib/python/site-packages (from onnxruntime->pdf2zh) (24.3.25)\n",
      "Requirement already satisfied: sympy in /Library/Python/3.9/site-packages (from onnxruntime->pdf2zh) (1.12)\n",
      "Requirement already satisfied: distro<2,>=1.7.0 in /Users/jeongmin/Library/Python/3.9/lib/python/site-packages (from openai->pdf2zh) (1.9.0)\n",
      "Requirement already satisfied: sniffio in /Library/Python/3.9/site-packages (from openai->pdf2zh) (1.3.1)\n",
      "Requirement already satisfied: exceptiongroup>=1.0.2 in /Library/Python/3.9/site-packages (from anyio<5.0,>=3.0->gradio->pdf2zh) (1.2.1)\n",
      "Requirement already satisfied: six>=1.11.0 in /Library/Developer/CommandLineTools/Library/Frameworks/Python3.framework/Versions/3.9/lib/python3.9/site-packages (from azure-core>=1.30.0->azure-ai-translation-text<=1.0.1->pdf2zh) (1.15.0)\n",
      "Requirement already satisfied: cffi>=1.12 in /Library/Python/3.9/site-packages (from cryptography>=36.0.0->pdfminer-six>=20240706->pdf2zh) (1.16.0)\n",
      "Requirement already satisfied: starlette<0.38.0,>=0.37.2 in /Library/Python/3.9/site-packages (from fastapi<1.0->gradio->pdf2zh) (0.37.2)\n",
      "Requirement already satisfied: fastapi-cli>=0.0.2 in /Users/jeongmin/Library/Python/3.9/lib/python/site-packages (from fastapi<1.0->gradio->pdf2zh) (0.0.4)\n",
      "Requirement already satisfied: ujson!=4.0.2,!=4.1.0,!=4.2.0,!=4.3.0,!=5.0.0,!=5.1.0,>=4.0.1 in /Users/jeongmin/Library/Python/3.9/lib/python/site-packages (from fastapi<1.0->gradio->pdf2zh) (5.10.0)\n",
      "Requirement already satisfied: email_validator>=2.0.0 in /Users/jeongmin/Library/Python/3.9/lib/python/site-packages (from fastapi<1.0->gradio->pdf2zh) (2.2.0)\n",
      "Requirement already satisfied: httpcore==1.* in /Library/Python/3.9/site-packages (from httpx>=0.24.1->gradio->pdf2zh) (1.0.5)\n",
      "Requirement already satisfied: h11<0.15,>=0.13 in /Library/Python/3.9/site-packages (from httpcore==1.*->httpx>=0.24.1->gradio->pdf2zh) (0.14.0)\n",
      "Requirement already satisfied: zipp>=3.1.0 in /Library/Python/3.9/site-packages (from importlib-resources<7.0,>=1.3->gradio->pdf2zh) (3.18.1)\n",
      "Requirement already satisfied: contourpy>=1.0.1 in /Library/Python/3.9/site-packages (from matplotlib~=3.0->gradio->pdf2zh) (1.2.1)\n",
      "Requirement already satisfied: cycler>=0.10 in /Library/Python/3.9/site-packages (from matplotlib~=3.0->gradio->pdf2zh) (0.12.1)\n",
      "Requirement already satisfied: fonttools>=4.22.0 in /Library/Python/3.9/site-packages (from matplotlib~=3.0->gradio->pdf2zh) (4.51.0)\n",
      "Requirement already satisfied: kiwisolver>=1.3.1 in /Library/Python/3.9/site-packages (from matplotlib~=3.0->gradio->pdf2zh) (1.4.5)\n",
      "Requirement already satisfied: pyparsing>=2.3.1 in /Library/Python/3.9/site-packages (from matplotlib~=3.0->gradio->pdf2zh) (3.1.2)\n",
      "Requirement already satisfied: python-dateutil>=2.7 in /Library/Python/3.9/site-packages (from matplotlib~=3.0->gradio->pdf2zh) (2.9.0.post0)\n",
      "Requirement already satisfied: pytz>=2020.1 in /Library/Python/3.9/site-packages (from pandas<3.0,>=1.0->gradio->pdf2zh) (2024.1)\n",
      "Requirement already satisfied: tzdata>=2022.7 in /Library/Python/3.9/site-packages (from pandas<3.0,>=1.0->gradio->pdf2zh) (2024.1)\n",
      "Requirement already satisfied: annotated-types>=0.6.0 in /Library/Python/3.9/site-packages (from pydantic>=2.0->gradio->pdf2zh) (0.6.0)\n",
      "Requirement already satisfied: pydantic-core==2.27.2 in /Users/jeongmin/Library/Python/3.9/lib/python/site-packages (from pydantic>=2.0->gradio->pdf2zh) (2.27.2)\n",
      "Requirement already satisfied: click>=8.0.0 in /Library/Python/3.9/site-packages (from typer<1.0,>=0.12->gradio->pdf2zh) (8.1.7)\n",
      "Requirement already satisfied: shellingham>=1.3.0 in /Users/jeongmin/Library/Python/3.9/lib/python/site-packages (from typer<1.0,>=0.12->gradio->pdf2zh) (1.5.4)\n",
      "Requirement already satisfied: rich>=10.11.0 in /Library/Python/3.9/site-packages (from typer<1.0,>=0.12->gradio->pdf2zh) (13.7.1)\n",
      "Requirement already satisfied: humanfriendly>=9.1 in /Users/jeongmin/Library/Python/3.9/lib/python/site-packages (from coloredlogs->onnxruntime->pdf2zh) (10.0)\n",
      "Requirement already satisfied: mpmath>=0.19 in /Library/Python/3.9/site-packages (from sympy->onnxruntime->pdf2zh) (1.3.0)\n",
      "Requirement already satisfied: pycparser in /Library/Python/3.9/site-packages (from cffi>=1.12->cryptography>=36.0.0->pdfminer-six>=20240706->pdf2zh) (2.22)\n",
      "Requirement already satisfied: dnspython>=2.0.0 in /Users/jeongmin/Library/Python/3.9/lib/python/site-packages (from email_validator>=2.0.0->fastapi<1.0->gradio->pdf2zh) (2.6.1)\n",
      "Requirement already satisfied: markdown-it-py>=2.2.0 in /Library/Python/3.9/site-packages (from rich>=10.11.0->typer<1.0,>=0.12->gradio->pdf2zh) (3.0.0)\n",
      "Requirement already satisfied: pygments<3.0.0,>=2.13.0 in /Library/Python/3.9/site-packages (from rich>=10.11.0->typer<1.0,>=0.12->gradio->pdf2zh) (2.18.0)\n",
      "Requirement already satisfied: httptools>=0.5.0 in /Users/jeongmin/Library/Python/3.9/lib/python/site-packages (from uvicorn[standard]>=0.12.0->fastapi<1.0->gradio->pdf2zh) (0.6.1)\n",
      "Requirement already satisfied: python-dotenv>=0.13 in /Users/jeongmin/Library/Python/3.9/lib/python/site-packages (from uvicorn[standard]>=0.12.0->fastapi<1.0->gradio->pdf2zh) (1.0.1)\n",
      "Requirement already satisfied: uvloop!=0.15.0,!=0.15.1,>=0.14.0 in /Users/jeongmin/Library/Python/3.9/lib/python/site-packages (from uvicorn[standard]>=0.12.0->fastapi<1.0->gradio->pdf2zh) (0.19.0)\n",
      "Requirement already satisfied: watchfiles>=0.13 in /Library/Python/3.9/site-packages (from uvicorn[standard]>=0.12.0->fastapi<1.0->gradio->pdf2zh) (0.21.0)\n",
      "Requirement already satisfied: mdurl~=0.1 in /Library/Python/3.9/site-packages (from markdown-it-py>=2.2.0->rich>=10.11.0->typer<1.0,>=0.12->gradio->pdf2zh) (0.1.2)\n",
      "\n",
      "\u001b[1m[\u001b[0m\u001b[34;49mnotice\u001b[0m\u001b[1;39;49m]\u001b[0m\u001b[39;49m A new release of pip is available: \u001b[0m\u001b[31;49m24.0\u001b[0m\u001b[39;49m -> \u001b[0m\u001b[32;49m24.3.1\u001b[0m\n",
      "\u001b[1m[\u001b[0m\u001b[34;49mnotice\u001b[0m\u001b[1;39;49m]\u001b[0m\u001b[39;49m To update, run: \u001b[0m\u001b[32;49m/Library/Developer/CommandLineTools/usr/bin/python3 -m pip install --upgrade pip\u001b[0m\n",
      "Note: you may need to restart the kernel to use updated packages.\n"
     ]
    }
   ],
   "source": [
    "%pip install pdf2zh"
   ]
  },
  {
   "cell_type": "code",
   "execution_count": 2,
   "metadata": {},
   "outputs": [
    {
     "name": "stderr",
     "output_type": "stream",
     "text": [
      "/Library/Python/3.9/site-packages/urllib3/__init__.py:35: NotOpenSSLWarning: urllib3 v2 only supports OpenSSL 1.1.1+, currently the 'ssl' module is compiled with 'LibreSSL 2.8.3'. See: https://github.com/urllib3/urllib3/issues/3020\n",
      "  warnings.warn(\n"
     ]
    },
    {
     "name": "stdout",
     "output_type": "stream",
     "text": [
      "/Users/jeongmin/PycharmProjects/agents/pdf/pdf2zh_modified/pdf2zh/pdf2zh.py\n"
     ]
    }
   ],
   "source": []
  },
  {
   "cell_type": "code",
   "execution_count": 3,
   "metadata": {},
   "outputs": [
    {
     "name": "stderr",
     "output_type": "stream",
     "text": [
      "100%|██████████| 39/39 [00:15<00:00,  2.44it/s]\n"
     ]
    },
    {
     "data": {
      "text/plain": [
       "[('2412.08445v1-mono.pdf', '2412.08445v1-dual.pdf')]"
      ]
     },
     "execution_count": 3,
     "metadata": {},
     "output_type": "execute_result"
    }
   ],
   "source": [
    "import pdf2zh\n",
    "from pdf2zh.doclayout import DocLayoutModel\n",
    "import os\n",
    "from dotenv import load_dotenv\n",
    "\n",
    "load_dotenv()\n",
    "\n",
    "ocr_model = DocLayoutModel.load_onnx()\n",
    "\n",
    "# OpenAI 모델 설정: GPT-4o\n",
    "os.environ[\"OPENAI_MODEL\"] = \"gpt-4o\"\n",
    "\n",
    "# 파일의 전체 경로 \n",
    "file_path = \"2412.08445v1.pdf\"\n",
    "abs_path = os.path.abspath(file_path)\n",
    "\n",
    "pdf2zh.translate([abs_path], lang_in=\"en\", lang_out=\"ko\", service=\"openai\", thread=10, model=ocr_model)"
   ]
  }
 ],
 "metadata": {
  "kernelspec": {
   "display_name": "Python 3",
   "language": "python",
   "name": "python3"
  },
  "language_info": {
   "codemirror_mode": {
    "name": "ipython",
    "version": 3
   },
   "file_extension": ".py",
   "mimetype": "text/x-python",
   "name": "python",
   "nbconvert_exporter": "python",
   "pygments_lexer": "ipython3",
   "version": "3.9.6"
  }
 },
 "nbformat": 4,
 "nbformat_minor": 2
}
