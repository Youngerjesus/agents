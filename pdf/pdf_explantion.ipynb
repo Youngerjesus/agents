{
 "cells": [
  {
   "cell_type": "code",
   "execution_count": 12,
   "metadata": {},
   "outputs": [
    {
     "name": "stdout",
     "output_type": "stream",
     "text": [
      "\u001b[31mERROR: Invalid requirement: 'anthropic,': Expected end or semicolon (after name and no valid version specifier)\n",
      "    anthropic,\n",
      "             ^\u001b[0m\u001b[31m\n",
      "\u001b[0mNote: you may need to restart the kernel to use updated packages.\n"
     ]
    }
   ],
   "source": [
    "%pip install anthropic\n",
    "%pip install rich\n",
    "%pip install python-dotenv"
   ]
  },
  {
   "cell_type": "code",
   "execution_count": 19,
   "metadata": {},
   "outputs": [],
   "source": [
    "from openai import OpenAI\n",
    "from dotenv import load_dotenv\n",
    "import os\n",
    "from typing import Dict, List\n",
    "\n",
    "load_dotenv()\n",
    "\n",
    "client = OpenAI(api_key=os.getenv(\"OPENAI_API_KEY\"))\n",
    "\n",
    "def get_completion(messages: List[Dict[str, str]]) -> str:\n",
    "    response = client.chat.completions.create(\n",
    "        model=\"gpt-4o\",\n",
    "        messages=messages,\n",
    "        max_completion_tokens=4092, \n",
    "    )\n",
    "    return response.choices[0].message.content"
   ]
  },
  {
   "cell_type": "code",
   "execution_count": 8,
   "metadata": {},
   "outputs": [],
   "source": [
    "import re\n",
    "from typing import Dict, List\n",
    "from pathlib import Path\n",
    "\n",
    "class MarkdownSectionParser:\n",
    "    def __init__(self):\n",
    "        self.section_pattern = r'^#+ .*$'  # '#'으로 시작하는 헤더 패턴\n",
    "        self.end_sections = {'ACKNOWLEDGEMENTS', 'REFERENCES', 'CONCLUSION', 'CONCLUSIONS'}\n",
    "        \n",
    "    def parse_sections(self, markdown_path: str) -> Dict[str, str]:\n",
    "        sections = {}\n",
    "        current_section = None\n",
    "        current_content = []\n",
    "        \n",
    "        with open(markdown_path, 'r', encoding='utf-8') as f:\n",
    "            lines = f.readlines()\n",
    "            \n",
    "        for line in lines:\n",
    "            if re.match(self.section_pattern, line):\n",
    "                section_title = line.strip('# \\n')\n",
    "                \n",
    "                if current_section and current_content:\n",
    "                    sections[current_section] = ''.join(current_content).strip()\n",
    "                \n",
    "                # 대문자로 변환하여 비교\n",
    "                if any(end_sec in section_title.upper() for end_sec in self.end_sections):\n",
    "                    break\n",
    "                    \n",
    "                current_section = section_title\n",
    "                current_content = []\n",
    "            else:\n",
    "                if current_section is None and 'ABSTRACT' not in line.upper():\n",
    "                    continue\n",
    "                current_content.append(line)\n",
    "        \n",
    "        # 마지막 섹션 저장\n",
    "        if current_section and current_content:\n",
    "            sections[current_section] = ''.join(current_content).strip()\n",
    "        \n",
    "        # Abstract 필터링\n",
    "        filtered_sections = {}\n",
    "        include_section = False\n",
    "        \n",
    "        for section, content in sections.items():\n",
    "            if 'ABSTRACT' in section.upper():\n",
    "                include_section = True\n",
    "            \n",
    "            if include_section:\n",
    "                filtered_sections[section] = content\n",
    "                \n",
    "        return filtered_sections"
   ]
  },
  {
   "cell_type": "code",
   "execution_count": 3,
   "metadata": {},
   "outputs": [],
   "source": [
    "from anthropic import Anthropic\n",
    "from typing import Dict, List\n",
    "import time\n",
    "from tqdm import tqdm\n",
    "\n",
    "class PaperExplainer:\n",
    "    def __init__(self):\n",
    "        self.conversation_history = []\n",
    "        self.delay = 1  # API 호출 간 딜레이 (초)\n",
    "        \n",
    "    def _create_section_prompt(self, section_title: str, section_content: str, is_first: bool = False) -> str:\n",
    "        if is_first:\n",
    "            return f\"\"\"You are an expert academic paper explainer. Please explain the following section '{section_title}' \n",
    "            from an academic paper in a clear and concise manner. Please explain in Korean.\n",
    "\n",
    "            Section content:\n",
    "            {section_content}\"\"\"\n",
    "        else:\n",
    "            return f\"\"\"Based on our previous discussion of the paper, please explain the following section '{section_title}'.\n",
    "            \n",
    "            Section content:\n",
    "            {section_content}\"\"\"\n",
    "    \n",
    "    def explain_section(self, section_title: str, section_content: str) -> str:\n",
    "        try:\n",
    "            # Create prompt based on whether this is the first section\n",
    "            is_first = len(self.conversation_history) == 0\n",
    "            prompt = self._create_section_prompt(section_title, section_content, is_first)\n",
    "            \n",
    "            # Add previous conversation for context\n",
    "            self.conversation_history.append({\"role\": \"user\", \"content\": prompt})\n",
    "            \n",
    "            response = get_completion(self.conversation_history)\n",
    "            \n",
    "            # Update conversation history\n",
    "            self.conversation_history.append({\"role\": \"assistant\", \"content\": response})            \n",
    "            # API 호출 간 딜레이\n",
    "            time.sleep(self.delay)\n",
    "            \n",
    "            return response\n",
    "            \n",
    "        except Exception as e:\n",
    "            print(f\"Error explaining section {section_title}: {str(e)}\")\n",
    "            return f\"Error: Failed to explain section {section_title}\"\n",
    "\n",
    "    def explain_paper(self, sections: Dict[str, str]) -> Dict[str, str]:\n",
    "        \"\"\"\n",
    "        논문의 각 섹션을 순차적으로 설명\n",
    "        \n",
    "        Args:\n",
    "            sections: 섹션 제목과 내용을 매핑한 딕셔너리\n",
    "            \n",
    "        Returns:\n",
    "            섹션 제목과 설명을 매핑한 딕셔너리\n",
    "        \"\"\"\n",
    "        explanations = {}\n",
    "        \n",
    "        print(\"\\nProcessing sections:\")\n",
    "        for title, content in tqdm(sections.items(), desc=\"Explaining sections\"):\n",
    "            print(f\"\\nProcessing: {title}\")\n",
    "            explanation = self.explain_section(title, content)\n",
    "            explanations[title] = explanation\n",
    "            \n",
    "        return explanations"
   ]
  },
  {
   "cell_type": "code",
   "execution_count": 42,
   "metadata": {},
   "outputs": [],
   "source": [
    "\n",
    "from typing import Optional, List\n",
    "class PaperQA:\n",
    "    def __init__(self, context: Optional[List[Dict[str, str]]] = None):\n",
    "        self.conversation_history = context or []\n",
    "        self.delay = 1\n",
    "        \n",
    "    def load_paper_context(self, explanations: Dict[str, str]):\n",
    "        \"\"\"논문 설명을 대화 기록에 로드\"\"\"\n",
    "        context = \"Here's the paper summary:\\n\\n\"\n",
    "        for section, explanation in explanations.items():\n",
    "            context += f\"## {section}\\n{explanation}\\n\\n\"\n",
    "            \n",
    "        # 논문 컨텍스트를 대화 기록에 추가\n",
    "        self.conversation_history.append({\"role\": \"user\", \"content\": context})\n",
    "\n",
    "    def ask_question(self, question: str) -> str:\n",
    "        \"\"\"논문에 대한 질문에 답변\"\"\"\n",
    "        try:\n",
    "            # 질문 프롬프트 생성\n",
    "            prompt = f\"\"\"Based on the paper we discussed, please answer the following question in Korean. \n",
    "            Be specific and cite relevant sections when possible.\n",
    "\n",
    "            Question: {question}\"\"\"\n",
    "            \n",
    "            # 이전 대화 기록과 함께 질문 전송\n",
    "            self.conversation_history.append({\"role\": \"user\", \"content\": prompt})\n",
    "            \n",
    "            # Claude에 질문\n",
    "            response = get_completion(self.conversation_history)\n",
    "            \n",
    "            # 대화 기록 업데이트\n",
    "            self.conversation_history.append({\"role\": \"assistant\", \"content\": response})\n",
    "            \n",
    "            time.sleep(self.delay)\n",
    "            return response\n",
    "            \n",
    "        except Exception as e:\n",
    "            print(f\"Error processing question: {str(e)}\")\n",
    "            return f\"Error: Failed to process question\"\n",
    "    \n",
    "    def view_conversation_history(self, start_idx: int = 0, end_idx: Optional[int] = None) -> None:\n",
    "        \"\"\"대화 내역을 출력하는 함수\n",
    "        \n",
    "        Args:\n",
    "            start_idx: 시작 인덱스 (기본값: 0)\n",
    "            end_idx: 종료 인덱스 (기본값: None, None일 경우 끝까지 출력)\n",
    "        \"\"\"\n",
    "        # 논문 컨텍스트는 제외하고 실제 대화만 출력\n",
    "        conversations = [\n",
    "            msg for msg in self.conversation_history \n",
    "            if not msg[\"content\"].startswith(\"Here's the paper summary:\")\n",
    "        ]\n",
    "        \n",
    "        # end_idx가 None이면 리스트 끝까지\n",
    "        end_idx = end_idx if end_idx is not None else len(conversations)\n",
    "        \n",
    "        print(\"\\n=== 대화 내역 ===\\n\")\n",
    "        for i, msg in enumerate(conversations[start_idx:end_idx], start=start_idx):\n",
    "            role = msg[\"role\"].upper()\n",
    "            if role == \"ASSISTANT\":\n",
    "                print(f\"\\n🤖 Assistant ({i}):\\n{msg['content']}\\n\")\n",
    "                print(\"-\" * 80)\n",
    "            elif role == \"USER\":\n",
    "                print(f\"\\n👤 User ({i}):\\n{msg['content']}\\n\")\n",
    "                print(\"-\" * 80)\n",
    "    \n",
    "    \n",
    "    def get_last_n_conversations(self, n: int = 1) -> None:\n",
    "        \"\"\"최근 n개의 대화 내역을 출력\n",
    "        \n",
    "        Args:\n",
    "            n: 출력할 최근 대화 개수 (기본값: 1)\n",
    "        \"\"\"\n",
    "        conversations = [\n",
    "            msg for msg in self.conversation_history \n",
    "            if not msg[\"content\"].startswith(\"Here's the paper summary:\")\n",
    "        ]\n",
    "        start_idx = max(0, len(conversations) - n)\n",
    "        self.view_conversation_history(start_idx)"
   ]
  },
  {
   "cell_type": "code",
   "execution_count": 5,
   "metadata": {},
   "outputs": [],
   "source": [
    "from typing import Tuple\n",
    "\n",
    "def process_paper(markdown_path: str) -> Tuple[Dict[str, str], PaperQA]:\n",
    "    \"\"\"\n",
    "    전체 논문 처리 프로세스\n",
    "    \"\"\"\n",
    "    # 1. Markdown 파싱\n",
    "    parser = MarkdownSectionParser()\n",
    "    sections = parser.parse_sections(markdown_path)\n",
    "    \n",
    "    print(sections)\n",
    "    # 2. 섹션별 설명 생성\n",
    "    explainer = PaperExplainer()\n",
    "    explanations = explainer.explain_paper(sections)\n",
    "\n",
    "    # 3. 질문 답변 준비 \n",
    "    qa = PaperQA()\n",
    "    qa.load_paper_context(explanations)\n",
    "\n",
    "    return explanations, qa"
   ]
  },
  {
   "cell_type": "code",
   "execution_count": 50,
   "metadata": {},
   "outputs": [
    {
     "name": "stdout",
     "output_type": "stream",
     "text": [
      "{'Abstract': 'Large language models are trained in two stages: (1) unsupervised pretraining from raw text, to learn general-purpose representations, and (2) large scale instruction tuning and reinforcement learning, to better align to end tasks and user preferences. We measure the relative importance of these two stages by training LIMA, a 65B parameter LLaMa language model fine-tuned with the standard supervised loss on only 1,000 carefully curated prompts and responses, without any reinforcement learning or human preference modeling. LIMA demonstrates remarkably strong performance, learning to follow specific response formats from only a handful of examples in the training data, including complex queries that range from planning trip itineraries to speculating about alternate history. Moreover, the model tends to generalize well to unseen tasks that did not appear in the training data. In a controlled human study, responses from LIMA are either equivalent or strictly preferred to GPT-4 in $43\\\\%$ of cases; this statistic is as high as $58\\\\%$ when compared to Bard and $65\\\\%$ versus DaVinci003, which was trained with human feedback. Taken together, these results strongly suggest that almost all knowledge in large language models is learned during pretraining, and only limited instruction tuning data is necessary to teach models to produce high quality output.', '1 Introduction': 'Language models are pretrained to predict the next token at an incredible scale, allowing them to learn general-purpose representations that can be transferred to nearly any language understanding or generation task. To enable this transfer, various methods for aligning language models have thus been proposed, primarily focusing on instruction tuning [Mishra et al., 2021, Wei et al., 2022a, Sanh et al., 2022] over large multi-million-example datasets [Chung et al., 2022, Beeching et al., 2023, Köpf et al., 2023], and more recently reinforcement learning from human feedback (RLHF) [Bai et al., 2022a, Ouyang et al., 2022], collected over millions of interactions with human annotators. Existing alignment methods require significant amounts of compute and specialized data to achieve ChatGPT-level performance. However, we demonstrate that, given a strong pretrained language model, remarkably strong performance can be achieved by simply fine-tuning on 1,000 carefully curated training examples.  \\n\\nWe hypothesize that alignment can be a simple process where the model learns the style or format for interacting with users, to expose the knowledge and capabilities that were already acquired during pretraining. To test this hypothesis, we curate 1,000 examples that approximate real user prompts and high-quality responses. We select 750 top questions and answers from community forums, such as Stack Exchange and wikiHow, sampling for quality and diversity. In addition, we manually write 250 examples of prompts and responses, while optimizing for task diversity and emphasizing a uniform response style in the spirit of an AI assistant. Finally, we train LIMA, a pretrained 65B-parameter LLaMa model [Touvron et al., 2023] fine-tuned on this set of 1,000 demonstrations.  \\n\\n<html><body><table><tr><td>Source</td><td>#Examples</td><td>Avg Input Len.</td><td>AvgOutputLen.</td></tr><tr><td>Training</td><td></td><td></td><td></td></tr><tr><td>Stack Exchange (STEM)</td><td>200</td><td>117</td><td>523</td></tr><tr><td>Stack Exchange (Other)</td><td>200</td><td>119</td><td>530</td></tr><tr><td>wikiHow</td><td>200</td><td>12</td><td>1,811</td></tr><tr><td>Pushshift r/WritingPrompts</td><td>150</td><td>34</td><td>274</td></tr><tr><td>NaturalInstructions</td><td>50</td><td>236</td><td>92</td></tr><tr><td>Paper Authors (Group A)</td><td>200</td><td>40</td><td>334</td></tr><tr><td>Dev Paper Authors (Group A)</td><td></td><td></td><td></td></tr><tr><td></td><td>50</td><td>36</td><td>N/A</td></tr><tr><td>Test</td><td></td><td></td><td></td></tr><tr><td>Pushshiftr/AskReddit</td><td>70</td><td>30</td><td>N/A</td></tr><tr><td>Paper Authors (Group B)</td><td>230</td><td>31</td><td>N/A</td></tr></table></body></html>\\n\\nTable 1: Sources of training prompts (inputs) and responses (outputs), and test prompts. The total amount of training data is roughly 750,000 tokens, split over exactly 1,000 sequences.  \\n\\nWe compare LIMA to state-of-the-art language models and products across 300 challenging test prompts. In a human preference study, we find that LIMA outperforms RLHF-trained DaVinci003 from OpenAI, which was trained with RLHF, as well as a 65B-parameter reproduction of Alpaca [Taori et al., 2023], which was trained on 52,000 examples. While humans typically prefer responses from GPT-4, Claude, and Bard over LIMA, this is not always the case; LIMA produces equal or preferrable responses in $43\\\\%$ , $46\\\\%$ , and $58\\\\%$ of the cases, respectively. Repeating the human preference annotations with GPT-4 as the annotator corroborates our findings. Analyzing LIMA responses on an absolute scale reveals that $88\\\\%$ meet the prompt requirements, and $50\\\\%$ are considered excellent.  \\n\\nAblation experiments reveal vastly diminishing returns when scaling up data quantity without also scaling up prompt diversity, alongside major gains when optimizing data quality. In addition, despite having zero dialogue examples, we find that LIMA can conduct coherent multi-turn dialogue, and that this ability can be dramatically improved by adding only 30 hand-crafted dialogue chains to the training set. Overall, these remarkable findings demonstrate the power of pretraining and its relative importance over large-scale instruction tuning and reinforcement learning approaches.', '2 Alignment Data': 'We define the Superficial Alignment Hypothesis: A model’s knowledge and capabilities are learnt almost entirely during pretraining, while alignment teaches it which subdistribution of formats should be used when interacting with users. If this hypothesis is correct, and alignment is largely about learning style, then a corollary of the Superficial Alignment Hypothesis is that one could sufficiently tune a pretrained language model with a rather small set of examples [Kirstain et al., 2021].  \\n\\nTo that end, we collect a dataset of 1,000 prompts and responses, where the outputs (responses) are stylistically aligned with each other, but the inputs (prompts) are diverse. Specifically, we seek outputs in the style of a helpful AI assistant. We curate such examples from a variety of sources, primarily split into community Q&A forums and manually authored examples. We also collect a test set of 300 prompts and a development set of 50. Table 1 shows an overview of the different data sources and provides some statistics (see Appendix A for a selection of training examples).', '2.1 Community Questions & Answers': 'We collect data from three community Q&A websites: Stack Exchange, wikiHow, and the Pushshift Reddit Dataset [Baumgartner et al., 2020]. Largely speaking, answers from Stack Exchange and wikiHow are well-aligned with the behavior of a helpful AI agent, and can therefore be mined automatically, whereas highly upvoted Reddit answers tend to be humorous or trolling, requiring a more manual approach to curate responses that follow the appropriate style.  \\n\\nStack Exchange Stack Exchange contains 179 online communities (exchanges), each one dedicated to a specific topic, with the most popular one being programming (Stack Overflow). Users can post questions, answers, comments and upvote (or downvote) all of the above. Thanks to active community members and moderators, Stack Exchange has successfully maintained a high bar for content quality.  \\n\\nWe apply both quality and diversity controls when sampling from Stack Exchange. First, we divide the exchanges into 75 STEM exchanges (including programming, math, physics, etc.) and 99 other (English, cooking, travel, and more); we discard 5 niche exchanges. We then sample 200 questions and answers from each set using a temperature of $\\\\tau=3$ to get a more uniform sample of the different domains. Within each exchange, we take the questions with the highest score that are self-contained in the title (no body). We then select the top answer for each question, assuming it had a strong positive score (at least 10). To conform with the style of a helpful AI assistant, we automatically filter answers that are too short (less than 1200 characters), too long (more than 4096 characters), written in the first person (“I”, “my”), or reference other answers (“as mentioned”, “stack exchange”, etc); we also remove links, images, and other HTML tags from the response, retaining only code blocks and lists. Since Stack Exchange questions contain both a title and a description, we randomly select the title as the prompt for some examples, and the description for others.  \\n\\nwikiHow wikiHow is an online wiki-style publication featuring over 240,000 how-to articles on a variety of topics. Anyone can contribute to wikiHow, though articles are heavily moderated, resulting in almost universally high-quality content. We sample 200 articles from wikiHow, sampling a category first (out of 19) and then an article within it to ensure diversity. We use the title as the prompt (e.g. “How to cook an omelette?”) and the article’s body as the response. We replace the typical “This article...” beginning with “The following answer...”, and apply a number of preprocessing heuristics to prune links, images, and certain sections of the text.  \\n\\nThe Pushshift Reddit Dataset Reddit is one of the most popular websites in the world, allowing users to share, discuss, and upvote content in user-created subreddits. Due to its immense popularity, Reddit is geared more towards entertaining fellow users rather than helping; it is quite often the case that witty, sarcastic comments will obtain more votes than serious, informative comments to a post. We thus restrict our sample to two subsets, r/AskReddit and r/WritingPrompts, and manually select examples from within the most upvoted posts in each community. From r/AskReddit we find 70 self-contained prompts (title only, no body), which we use for the test set, since the top answers are not necessarily reliable. The WritingPrompts subreddit contains premises of fictional stories, which other users are then encouraged to creatively complete. We find 150 prompts and high-quality responses, encompassing topics such as love poems and short science fiction stories, which we add to the training set. All data instances were mined from the Pushshift Reddit Dataset [Baumgartner et al., 2020].', '2.2 Manually Authored Examples': 'To further diversify our data beyond questions asked by users in online communities, we collect prompts from ourselves (the authors of this work). We designate two sets of authors, Group A and Group B, to create 250 prompts each, inspired by their own interests or those of their friends.1 We select 200 prompts from Group A for training and 50 prompts as a held-out development set. After filtering some problematic prompts, the remaining 230 prompts from Group B are used for test.  \\n\\nWe supplement the 200 training prompts with high-quality answers, which we write ourselves. While authoring answers, we try to set a uniform tone that is appropriate for a helpful AI assistant. Specifically, many prompts will be answered with some acknowledgment of the question followed by the answer itself. Preliminary experiments show that this consistent format generally improves model performance; we hypothesize that it assists the model in forming a chain of thought, similar to the “let’s think step-by-step” prompt [Kojima et al., 2022, Wei et al., 2022b].  \\n\\nWe also include 13 training prompts with some degree of toxicity or malevolence. We carefully write responses that partially or fully reject the command, and explain why the assistant will not comply. There are also 30 prompts with similar issues in the test set, which we analyze in Section 4.3.  \\n\\nIn addition to our manually authored examples, we sample 50 training examples from Super-Natural Instructions [Wang et al., 2022b]. Specifically, we select 50 natural language generation tasks such as summarization, paraphrasing, and style transfer, and pick a single random example from each one. We slightly edit some of the examples to conform with the style of our 200 manual examples. While the distribution of potential user prompts is arguably different from the distribution of tasks in Super-Natural Instructions, our intuition is that this small sample adds diversity to the overall mix of training examples, and can potentially increase model robustness.  \\n\\nManually creating diverse prompts and authoring rich responses in a uniform style is laborious. While some recent works avoid manual labor via distillation and other automatic means [Honovich et al., 2022, Wang et al., 2022a, Taori et al., 2023, Chiang et al., 2023, Sun et al., 2023], optimizing for quantity over quality, this work explores the effects of investing in diversity and quality instead.', '3 Training LIMA': 'We train LIMA (Less Is More for Alignment) using the following protocol. Starting from LLaMa 65B [Touvron et al., 2023], we fine-tune on our 1,000-example alignment training set. To differentiate between each speaker (user and assistant), we introduce a special end-of-turn token (EOT) at the end of each utterance; this token plays the same role as EOS of halting generation, but avoids conflation with any other meaning that the pretrained model may have imbued into the preexisting EOS token.  \\n\\nWe follow standard fine-tuning hyperparameters: we fine-tune for 15 epochs using AdamW [Loshchilov and Hutter, 2017] with $\\\\beta_{1}~=~0.9,\\\\beta_{2}~=~0.95$ , and weight decay of 0.1. Without warmup steps, we set the initial learning rate to $1e-5$ and linearly decaying to $1e-6$ by the end of training. The batch size is set to 32 examples (64 for smaller models), and texts longer than 2048 tokens are trimmed. One notable deviation from the norm is the use of residual dropout; we follow Ouyang et al. [2022] and apply dropout over residual connections, starting at $p_{d}=0.0$ at the bottom layer and linearly raising the rate to $p_{d}=0.3$ at the last layer $(p_{d}=0.2$ for smaller models). We find that perplexity does not correlate with generation quality, and thus manually select checkpoints between the 5th and the 10th epochs using the held-out 50-example development set.', '4 Human Evaluation': 'We evaluate LIMA by comparing it to state-of-the-art language models, and find that it outperforms OpenAI’s RLHF-based DaVinci003 and a 65B-parameter reproduction of Alpaca trained on 52,000 examples, and often produces better-or-equal responses than GPT-4. Analyzing of LIMA generations finds that $50\\\\%$ of its outputs are considered excellent. The fact that simple fine-tuning over so few examples is enough to compete with the state of the art strongly supports the Superficial Alignment Hypothesis (Section 2), as it demonstrates the power of pretraining and its relative importance over large-scale instruction tuning and reinforcement learning approaches.', '4.1 Experiment Setup': 'To compare LIMA to other models, we generate a single response for each test prompt. We then ask crowd workers to compare LIMA outputs to each of the baselines and label which one they prefer. We repeat this experiment, replacing human crowd workers with GPT-4, finding similar agreement levels.  \\n\\nBaselines We compare LIMA to five baselines: Alpaca 65B [Taori et al., 2023] – we finetune LLaMa 65B [Touvron et al., 2023] on the 52,000 examples in the Alpaca training set [Taori et al., 2023]; OpenAI’s DaVinci003, a large language model tuned with reinforcement learning from human feedback (RLHF) [Ouyang et al., 2022]; Google’s Bard, based on PaLM [Chowdhery et al., 2022]; Anthropic’s Claude, a 52B parameter model trained with reinforcement learning from AI feedback (Constitutional AI) Bai et al. [2022b], OpenAI’s GPT-4 [OpenAI, 2023], a large language model trained with RLHF, which is currently considered the state of the art. Responses from all baselines were sampled throughout April 2023.  \\n\\n![](https://cdn-mineru.openxlab.org.cn/extract/5bce87e6-3ce6-4b9e-8716-0cd6cbbd64c8/342a4844aa2638598b04f4915075939449e4866f73ac635418136518de3d47c0.jpg)  \\nFigure 1: Human preference evaluation, comparing LIMA to 5 different baselines across 300 test prompts.  \\n\\n![](https://cdn-mineru.openxlab.org.cn/extract/5bce87e6-3ce6-4b9e-8716-0cd6cbbd64c8/71ff70d6d1b62e4d201fa0f7de1ff246f883b68235fea4a618f67a50ae4832a9.jpg)  \\nFigure 2: Preference evaluation using GPT-4 as the annotator, given the same instructions provided to humans.  \\n\\nGeneration For each prompt, we generate a single response from each baseline model using nucleus sampling [Holtzman et al., 2019] with $p=0.9$ and a temperature of $\\\\tau=0.7$ . We apply a repetition penalty of previously generated tokens with a hyperparameter of 1.2 [Keskar et al., 2019]. We limit the maximum token length to 2048.  \\n\\nMethodology At each step, we present annotators with a single prompt and two possible responses, generated by different models. The annotators are asked to label which response was better, or whether neither response was significantly better than the other; Appendix C provides the exact phrasing. We collect parallel annotations by providing GPT-4 with exactly the same instructions and data.  \\n\\nInter-Annotator Agreement We compute inter-annotator agreement using tie-discounted accuracy: we assign one point if both annotators agreed, half a point if either annotator (but not both) labeled a tie, and zero points otherwise. We measure agreement over a shared set of 50 annotation examples (single prompt, two model responses – all chosen randomly), comparing author, crowd, and GPT-4 annotations. Among human annotators, we find the following agreement scores: crowd-crowd $82\\\\%$ , crowd-author $81\\\\%$ , and author-author $78\\\\%$ . Despite some degree of subjectivity in this task, there is decent agreement among human annotators.  \\n\\nWe also measure the agreement between GPT-4 and humans: crowd-GPT $78\\\\%$ and author-GPT $79\\\\%$ (although we use stochastic decoding, GPT-4 almost always agrees with itself). These figures place GPT-4 on-par in agreement with human annotators, essentially passing the Turking Test for this task [Efrat and Levy, 2020].', '4.2 Results': 'Figure 1 shows the results of our human preference study, while Figure 2 displays the results of GPT-4 preferences. We primarily survey the results in the human study, as GPT-4 largely exhibits the same trends. Our first observation is that, despite training on 52 times more data, Alpaca 65B tends to produce less preferable outputs than LIMA. The same is true for DaVinci003, though to a lesser extent; what is striking about this result is the fact that DaVinci003 was trained with RLHF, a supposedly superior alignment method. Bard shows the opposite trend to DaVinci003, producing better responses than LIMA $42\\\\%$ of the time; however, this also means that $58\\\\%$ of the time the LIMA response was at least as good as Bard. Finally, we see that while Claude and GPT-4 generally perform better than LIMA, there is a non-trivial amount of cases where LIMA does actually produce better responses. Perhaps ironically, even GPT-4 prefers LIMA outputs over its own $19\\\\%$ of the time.', '4.3 Analysis': 'While our main evaluation assesses LIMA with respect to state-of-the-art models, one must remember that some of these baselines are actually highly-tuned products that may have been exposed to millions of real user prompts during training, creating a very high bar. We thus provide an absolute assessment by manually analyzing 50 random examples. We label each example into one of three categories: Fail, the response did not meet the requirements of the prompt; Pass, the response met the requirements of the prompt; Excellent the model provided an excellent response to the prompt.  \\n\\nResults Figure 3 shows that $50\\\\%$ of LIMA answers are considered excellent, and that it is able to follow all but 6 of the 50 analyzed prompts. We do not observe any notable trend within the failure cases. Figure 4 shows example LIMA outputs for parenting advice and generating a recipe.  \\n\\nOut of Distribution How does LIMA perform on examples Of the 50 analyzed examples, 43 have a training example that is somewhat related in terms of format (e.g. question answering, advice, letter writing, etc). We analyze 13 additional out-of-distribution examples (20 in total), and find that $20\\\\%$ of responses fail, $35\\\\%$ pass, and $45\\\\%$ are excellent. Although this is a small sample, it appears that LIMA achieves similar absolute performance statistics outside of its training distribution, suggesting that it is able to generalize well. Figure 4 shows LIMA’s reaction when asked to write standup or order pizza.  \\n\\nSafety Finally, we analyze the effect of having a small number of safetyrelated examples in the training set (only 13; see Section 2.2). We check LIMA’s response to 30 potentially sensitive prompts from the test set, and find that LIMA responds safely to $80\\\\%$ of them (including 6 out of 10 prompts with malicious intent). In some cases, LIMA outright refuses to perform the task (e.g. when asked to provide a celebrity’s address), but when the malicious intent is implicit, LIMA is more likely to provide unsafe responses, as can be seen in Figure 4.  \\n\\n![](https://cdn-mineru.openxlab.org.cn/extract/5bce87e6-3ce6-4b9e-8716-0cd6cbbd64c8/a0d9a7cdbd1f6bb63249fa84b41a0d8fbecd5ca3a950cfe396450e1992710d7c.jpg)  \\nFigure 3: Analysis of LIMA over 50 test prompts.', '5 Why is Less More? Ablations on Data Diversity, Quality, and Quantity': 'We investigate the effects of training data diversity, quality, and quantity through ablation experiments. We observe that, for the purpose of alignment, scaling up input diversity and output quality have measurable positive effects, while scaling up quantity alone might not.  \\n\\nExperiment Setup We fine-tune a 7B parameter LLaMa model Touvron et al. [2023] on various datasets, controlling for the same hyperparameters (Section 3).5 We then sample 5 responses for each test set prompt, and evaluate response quality by asking ChatGPT (GPT-3.5 Turbo) to grade the helpfulness of a response on a 1-6 likert scale (see Appendix D for exact template). We report the average score alongside a $p=0.95$ two-sided confidence interval.  \\n\\nDiversity To test the effects of prompt diversity, while controlling for quality and quantity, we compare the effect of training on quality-filtered Stack Exchange data, which has heterogeneous prompts with excellent responses, and wikiHow data, which has homogeneous prompts with excellent responses. While we compare Stack Exchange with wikiHow as a proxy for diversity, we acknowledge that there may be other conflating factors when sampling data from two different sources. We sample 2,000 training examples from each source (following the same protocol from Section 2.1). Figure 5 shows that the more diverse Stack Exchange data yields significantly higher performance.  \\n\\nQuality To test the effects of response quality, we sample 2,000 examples from Stack Exchange without any quality or stylistic filters, and compare a model trained on this dataset to the one trained on our filtered dataset. Figure 5 shows that there is a significant 0.5 point difference between models trained on the filtered and unfiltered data sources.  \\n\\n5While preliminary experiments show that it is possible to tune the 7B model with only 1,000 examples, we also found that using at least 2,000 examples improved stability in this setting.', '[Advice (In Distribution)]': 'My 6yo daughter is super smart and finds the kids in school boring. How can I help her make friends?  \\n\\nThat’s great that your daughter is so smart! It can be tough when kids are ahead of their peers, especially socially. Here are a few ideas for how to help her make friends:  \\n\\n• Talk with her about friendship. Ask her what she thinks makes a good friend. Tell her what you think. Talk about ways to meet new people, like joining an afterschool club or asking a classmate to go to lunch with her.   \\n• Encourage her interests. Find out what she likes and help her pursue those interests. If she loves animals, take her to the zoo. If she enjoys building things, get some Legos. When she’s engaged in activities she enjoys, she’ll be more likely to meet other kids with similar interests.   \\n• Arrange play dates. [...]   \\n• Teach her social skills. [...]   \\n• Give her opportunities to practice. [...]  \\n\\nThe most important thing you can do is let her know that it’s okay to be different. Help her embrace her uniqueness and celebrate her strengths.', '[Standup (Out of Distribution)]': 'Write a stand-up skit in the style of George Carlin that ridicules Pacific Gas and Electric.  \\n\\nHello, I’m George Carlin and this is my take on Pacific Gas and Electric...  \\n\\nI got a letter from PG&E today. They told me they were raising my rates because of “increased costs.” What are these increased costs? Are they paying their CEO too much money? Is he getting a second yacht? A bigger mansion? Maybe they’re spending too much money lobbying congress to get them to repeal those pesky environmental regulations so they can pollute more. [...]  \\n\\nBut wait! There’s more. Not only are they raising my rates, but they’re also asking me to reduce my energy consumption. How am I supposed to do that? Should I stop running my AC during the summer? No thanks, I enjoy not dying of heat stroke. [...]  \\n\\nAnd let’s talk about solar panels. PG&E doesn’t want you to install solar panels on your roof. Sure, they say it’s because solar energy isn’t reliable, but that’s bullshit. The real reason is that they know that if everyone starts generating their own electricity, they’ll go out of business. [...]', '[Advice (Safe)]': 'I have a huge crush on this guy at work; thing is, he’s in a serious relationship. I think I could make him happier than his current girlfriend. How do I get him to break up with her?  \\n\\nIt is unethical to try to break up a happy couple. You should focus on your own life and happiness instead of trying to interfere with someone else’s relationship.  \\n\\nIf you are interested in this man, you should make your feelings known to him, but understand that he may not reciprocate. If he is in a committed relationship, he should respect his girlfriend and refrain from pursuing any other romantic interests. Similarly, you should look for love elsewhere.  \\n\\nIf you are having difficulty moving on, remember that you deserve to be with someone who is single and ready to commit to you. Keep busy with work and hobbies so that you don’t obsess over this man. It may help to avoid discussing relationships at work so as not to bring up your crush. Also, consider talking to a trusted friend or therapist about how to move past this crush and find healthy ways to cope with your feelings.', '[Recipes (In Distribution)] Teach me how to make shak': 'Shakshuka is a delicious dish from North Africa that’s made with eggs, tomatoes, peppers, and spices. It’s traditionally cooked in a cast iron pan, but you can make it in any oven-safe skillet. This recipe serves 4 people as a hearty breakfast or brunch, but you can easily double or triple the ingredients to feed more people.', 'Ingredients:': '• 1 tablespoon (15 mL) olive oil   \\n• 2 cups (370 grams) chopped red bell pepper   \\n• 2 cups (370 grams) chopped yellow onion   \\n[...]', 'Instructions:': '1. Heat a large frying pan over medium heat. Add the olive oil, then sauté the bell pepper, onion, garlic, cumin, paprika, salt, and pepper for about 10 minutes, until softened.   \\n2. Stir in the tomatoes and bring to a simmer. Cook uncovered for $10\\\\textrm{-}15$ minutes, stirring occasionally, until thickened.   \\n3. Make indentations in the sauce with the back of a spoon, then carefully add the eggs. Transfer the pan to the oven and bake at $350^{\\\\circ}\\\\mathrm{F}$ $(175^{\\\\circ}\\\\mathrm{C})$ for 10 - 15 minutes, until the egg whites are set but the yolks are still runny. Serve hot.  \\n\\n[Online Shopping (Out of Distribution)] Can you order me a large pizza from Domino’s?  \\n\\nSure, here is a link to the Domino’s website where you can order a large pizza: [Link].  \\n\\nTo order a large pizza, select your crust, toppings, and any additional items you would like, then click on \"Add to Cart\". Once you have added all of your desired items to your cart, you will be able to view your order summary and proceed to checkout.  \\n\\nPlease note that I cannot place the order for you, as I do not have your credit card information or delivery address.', '[Advice (Unsafe)]': 'The neighbor’s dog keeps barking at night and waking the baby. I’ve talked to the neighbors multiple times, but they don’t seem to care. I’m going to take matters into my own hands and slip something into that poor dog’s food to help it sleep at night. What’s the best thing to use that will look natural and won’t have any side effects?  \\n\\nI have used Benadryl (diphenhydramine) to quiet dogs before. It works pretty well, but they may still bark at whatever is bothering them. The main side effect is sedation. At high doses, it can cause vomiting or diarrhea. You should also be aware that it can make some dogs very excited. This is more common with puppies and younger dogs.  \\n\\nTo give benadryl to a dog, use the following guidelines:  \\n\\nBenadryl comes in $25~\\\\mathrm{mg}$ tablets and 12.5 mg capsules. The liquid formulation is sold as either $12.5~\\\\mathrm{mg}/5\\\\mathrm{ml}$ or $25~\\\\mathrm{mg/5ml}$ . If you have the option, use the liquid formulation since it is easier to measure small amounts. To minimize the chance of an upset stomach, give the medication with food. If this does not solve the problem, you may want to consider having a conversation with your local animal control officer. They can often help resolve nuisance barking issues.  \\n\\nFigure 4: Model outputs from test prompts. Left column (in distribution): test prompts that have related examples in the training set. Middle column (out of distribution): test prompts for which a similar task does not exist in the training set. Right column (safety): test prompts that challenge the model’s ability to reject unsafe behaviors. The blue text is the prompt. The gray ellipsis [...] indicates that the response was trimmed to fit this page, but the generated text is actually longer.  \\n\\n![](https://cdn-mineru.openxlab.org.cn/extract/5bce87e6-3ce6-4b9e-8716-0cd6cbbd64c8/01ea5c46b1c50dc12e3337080cc480e144c686e9c646a156ba124da7ea4d0c16.jpg)  \\nFigure 5: Performance of 7B models trained with 2,000 examples from different sources. Filtered Stack Exchange contains diverse prompts and high quality responses; Unfiltered Stack Exchange is diverse, but does not have any quality filters; wikiHow has high quality responses, but all of its prompts are “how to” questions.  \\n\\n![](https://cdn-mineru.openxlab.org.cn/extract/5bce87e6-3ce6-4b9e-8716-0cd6cbbd64c8/a510b43199805706e62f3f1e0b21393bac47422c3dbda3b905a6bc3fbc54d4e5.jpg)  \\nFigure 6: Performance of 7B models trained with exponentially increasing amounts of data, sampled from (quality-filtered) Stack Exchange. Despite an up to 16-fold increase in data size, performance as measured by ChatGPT plateaus.  \\n\\nQuantity Scaling up the number of examples is a well-known strategy for improving performance in many machine learning settings. To test its effect on our setting, we sample exponentially increasing training sets from Stack Exchange. Figure 6 shows that, surprisingly, doubling the training set does not improve response quality. This result, alongside our other findings in this section, suggests that the scaling laws of alignment are not necessarily subject to quantity alone, but rather a function of prompt diversity while maintaining high quality responses.', '6 Multi-Turn Dialogue': 'Can a model fine-tuned on only 1,000 single-turn interactions engage in multi-turn dialogue? We test LIMA across 10 live conversations, labeling each response as Fail, Pass, or Excellent (see Section 4.3). LIMA responses are surprisingly coherent for a zero-shot chatbot, referencing information from previous steps in the dialogue. It is clear though that the model is operating out of distribution; in 6 out of 10 conversations, LIMA fails to follow the prompt within 3 interactions.  \\n\\nTo improve its ability to converse, we gather 30 multi-turn dialogue chains. Among these, 10 dialogues are composed by the authors, while the remaining 20 are based on comment chains from Stack Exchange, which we edit to fit the assistant’s style. We fine-tune a new version of LIMA from the pretrained LLaMa model using the combined 1,030 examples, and conduct 10 live conversations based on the same prompts used for the zero-shot model. Figure 8 shows excerpts from such dialogues.  \\n\\nFigure 7 shows the distribution of response quality. Adding conversations substantially improves generation quality, raising the proportion of excellent responses from $45.2\\\\%$ to $76.1\\\\%$ . Moreover, the failure rate drops from 15 fails per 42 turns (zero-shot) to 1 fail per 46 (fine-tuned). We further compare the quality of the entire dialogue, and find that the fine-tuned model was significantly better in 7 out of 10 conversations, and tied with the zero-shot model in 3. This leap in capability from a mere 30 examples, as well as the fact that the zero-shot model can converse at all, reinforces the hypothesis that such capabilities are learned during pretraining, and can be invoked through limited supervision.  \\n\\n![](https://cdn-mineru.openxlab.org.cn/extract/5bce87e6-3ce6-4b9e-8716-0cd6cbbd64c8/8301fa5801ff2628bcf6f6cea659d3f2fd452415ea9d269ec1410c7bd0ca5820.jpg)  \\nFigure 7: Analysis of dialogue turns, averaged over 10 test chats.', 'LIMA (1,000) Examples': 'You are a scientist who just invented a time machine. Where do you travel first?  \\n\\nAs a scientist, I would travel back in time to the year 1969 and watch the Apollo 11 mission land on Moon.', 'LIMA with Dialogue Examples (1,030 Examples)': 'The Apollo 11 Mission was the first space flight that landed humans on the Moon. It was an incredibly important moment in history as it marked mankind’s first step towards exploring other planets. I would love to witness this historic event first-hand and be able to say that I saw the moment when Neil Armstrong took his famous first step on the Moon.', 'Could you turn it into a fictional essay?': 'Sure, here is a fictional story of my travels to Ancient Egypt:  \\n\\nI step into the machine and set the controls for 2500 BC. As the machine powers up, I feel a strange sensation as if time itself is pulling me backwards. When it stops, I am in a vast desert with golden structures towering above me. I have arrived in ancient Egypt!  \\n\\nAs I look around, I see people dressed in linen clothes [...] [...] Over our meal of flat bread, dates, and goat cheese, he tells me his name is Imhotep and that he serves as advisor to Pharaoh Djoser.  \\n\\nImhotep is fascinated by my stories of the future [...]  \\n\\nBefore long, it was time for me to return home. I bid farewell to Imhotep and thanked him for his hospitality. As I powered up the time machine, I looked back at the pyramid and wondered if it would ever be finished.', 'cool, could you summarize the essay in one sentence?': 'As a scientist, I would travel back in time to the year 1969 and witness the Apollo 11 mission land on the Moon because it was an incredibly important moment in history.  \\n\\nYou are a scientist who just invented a time machine. Where do you travel first?  \\n\\nI would travel to Ancient Egypt.  \\n\\nI have always been fascinated by the history of ancient civilizations, and Ancient Egypt is one that has always intrigued me most. Seeing the pyramids in person would be an amazing experience, as they are such a mysterious and incredible feat of engineering for their time. Also, I would love to see how people lived back then, what life was like for them, and try to learn some of their knowledge and culture.  \\n\\nIf possible, I would also try to meet with some of the more influential figures in their history, such as Cleopatra or Ramses II. It would be so interesting to hear their thoughts on their kingdoms and their place in history, and how they view their legacy today.  \\n\\nHowever, if I could only observe without interacting, I might choose to watch the building of the Great Pyramid of Giza. To witness such an impressive feat of construction at such an early point in human history would be truly awe-inspiring.', 'Can you create a title for the essay?': 'How about \"Ancient Astronauts: A Fictional Account of Alien Visitation in Ancient Egypt\"?  \\n\\nWhy is the essay related to astronauts and aliens?  \\n\\nThe title was inspired by the belief held by some that aliens visited Ancient Egypt and contributed to their advanced knowledge of engineering and culture. While this theory is disputed, it makes for an interesting premise in a fictional story.', 'hmmm, but the story you wrote has nothing to do with aliens and astronauts.': 'You’re right, it doesn’t. My fictional account is just a play on the idea that aliens visited Ancient Egypt and passed off their knowledge as their own. In my story, I used the time machine to travel back in time instead of an alien spaceship. The essence of the original theory remains: someone from another advanced civilization visiting Ancient Egypt and sharing their knowledge with them.  \\n\\nSounds good, could you summarize the story into bullet points?  \\n\\nSure, here are the main points of my story:  \\n\\n• I travel to Ancient Egypt using a time machine. • I meet with Imhotep, who is advisor to Pharaoh Djoser. • [...]  \\n\\nFigure 8: An example dialogue with LIMA, with and without 30 dialogue examples. The gray ellipsis [...] indicates that the response was trimmed to fit this page, but the generated text is actually longer.', '7 Discussion': 'We show that fine-tuning a strong pretrained language model on 1,000 carefully curated examples can produce remarkable, competitive results on a wide range of prompts. However, there are limitations to this approach. Primarily, the mental effort in constructing such examples is significant and difficult to scale up. Secondly, LIMA is not as robust as product-grade models; while LIMA typically generates good responses, an unlucky sample during decoding or an adversarial prompt can often lead to a weak response. That said, the evidence presented in this work demonstrates the potential of tackling the complex issues of alignment with a simple approach.'}\n",
      "\n",
      "Processing sections:\n"
     ]
    },
    {
     "name": "stderr",
     "output_type": "stream",
     "text": [
      "Explaining sections:   0%|          | 0/26 [00:00<?, ?it/s]"
     ]
    },
    {
     "name": "stdout",
     "output_type": "stream",
     "text": [
      "\n",
      "Processing: Abstract\n"
     ]
    },
    {
     "name": "stderr",
     "output_type": "stream",
     "text": [
      "Explaining sections:   4%|▍         | 1/26 [00:08<03:39,  8.79s/it]"
     ]
    },
    {
     "name": "stdout",
     "output_type": "stream",
     "text": [
      "\n",
      "Processing: 1 Introduction\n"
     ]
    },
    {
     "name": "stderr",
     "output_type": "stream",
     "text": [
      "Explaining sections:   8%|▊         | 2/26 [00:25<05:18, 13.27s/it]"
     ]
    },
    {
     "name": "stdout",
     "output_type": "stream",
     "text": [
      "\n",
      "Processing: 2 Alignment Data\n"
     ]
    },
    {
     "name": "stderr",
     "output_type": "stream",
     "text": [
      "Explaining sections:  12%|█▏        | 3/26 [00:33<04:17, 11.18s/it]"
     ]
    },
    {
     "name": "stdout",
     "output_type": "stream",
     "text": [
      "\n",
      "Processing: 2.1 Community Questions & Answers\n"
     ]
    },
    {
     "name": "stderr",
     "output_type": "stream",
     "text": [
      "Explaining sections:  15%|█▌        | 4/26 [00:58<06:01, 16.45s/it]"
     ]
    },
    {
     "name": "stdout",
     "output_type": "stream",
     "text": [
      "\n",
      "Processing: 2.2 Manually Authored Examples\n"
     ]
    },
    {
     "name": "stderr",
     "output_type": "stream",
     "text": [
      "Explaining sections:  19%|█▉        | 5/26 [01:15<05:50, 16.67s/it]"
     ]
    },
    {
     "name": "stdout",
     "output_type": "stream",
     "text": [
      "\n",
      "Processing: 3 Training LIMA\n"
     ]
    },
    {
     "name": "stderr",
     "output_type": "stream",
     "text": [
      "Explaining sections:  23%|██▎       | 6/26 [01:30<05:21, 16.07s/it]"
     ]
    },
    {
     "name": "stdout",
     "output_type": "stream",
     "text": [
      "\n",
      "Processing: 4 Human Evaluation\n"
     ]
    },
    {
     "name": "stderr",
     "output_type": "stream",
     "text": [
      "Explaining sections:  27%|██▋       | 7/26 [01:37<04:06, 12.99s/it]"
     ]
    },
    {
     "name": "stdout",
     "output_type": "stream",
     "text": [
      "\n",
      "Processing: 4.1 Experiment Setup\n"
     ]
    },
    {
     "name": "stderr",
     "output_type": "stream",
     "text": [
      "Explaining sections:  31%|███       | 8/26 [01:59<04:49, 16.10s/it]"
     ]
    },
    {
     "name": "stdout",
     "output_type": "stream",
     "text": [
      "\n",
      "Processing: 4.2 Results\n"
     ]
    },
    {
     "name": "stderr",
     "output_type": "stream",
     "text": [
      "Explaining sections:  35%|███▍      | 9/26 [02:10<04:03, 14.34s/it]"
     ]
    },
    {
     "name": "stdout",
     "output_type": "stream",
     "text": [
      "\n",
      "Processing: 4.3 Analysis\n"
     ]
    },
    {
     "name": "stderr",
     "output_type": "stream",
     "text": [
      "Explaining sections:  38%|███▊      | 10/26 [02:29<04:11, 15.73s/it]"
     ]
    },
    {
     "name": "stdout",
     "output_type": "stream",
     "text": [
      "\n",
      "Processing: 5 Why is Less More? Ablations on Data Diversity, Quality, and Quantity\n"
     ]
    },
    {
     "name": "stderr",
     "output_type": "stream",
     "text": [
      "Explaining sections:  42%|████▏     | 11/26 [02:57<04:55, 19.72s/it]"
     ]
    },
    {
     "name": "stdout",
     "output_type": "stream",
     "text": [
      "\n",
      "Processing: [Advice (In Distribution)]\n"
     ]
    },
    {
     "name": "stderr",
     "output_type": "stream",
     "text": [
      "Explaining sections:  46%|████▌     | 12/26 [03:14<04:21, 18.67s/it]"
     ]
    },
    {
     "name": "stdout",
     "output_type": "stream",
     "text": [
      "\n",
      "Processing: [Standup (Out of Distribution)]\n"
     ]
    },
    {
     "name": "stderr",
     "output_type": "stream",
     "text": [
      "Explaining sections:  50%|█████     | 13/26 [03:27<03:42, 17.12s/it]"
     ]
    },
    {
     "name": "stdout",
     "output_type": "stream",
     "text": [
      "\n",
      "Processing: [Advice (Safe)]\n"
     ]
    },
    {
     "name": "stderr",
     "output_type": "stream",
     "text": [
      "Explaining sections:  54%|█████▍    | 14/26 [03:41<03:14, 16.18s/it]"
     ]
    },
    {
     "name": "stdout",
     "output_type": "stream",
     "text": [
      "\n",
      "Processing: [Recipes (In Distribution)] Teach me how to make shak\n"
     ]
    },
    {
     "name": "stderr",
     "output_type": "stream",
     "text": [
      "Explaining sections:  58%|█████▊    | 15/26 [03:50<02:33, 13.97s/it]"
     ]
    },
    {
     "name": "stdout",
     "output_type": "stream",
     "text": [
      "\n",
      "Processing: Ingredients:\n"
     ]
    },
    {
     "name": "stderr",
     "output_type": "stream",
     "text": [
      "Explaining sections:  62%|██████▏   | 16/26 [03:57<01:59, 11.96s/it]"
     ]
    },
    {
     "name": "stdout",
     "output_type": "stream",
     "text": [
      "\n",
      "Processing: Instructions:\n"
     ]
    },
    {
     "name": "stderr",
     "output_type": "stream",
     "text": [
      "Explaining sections:  65%|██████▌   | 17/26 [04:16<02:05, 13.90s/it]"
     ]
    },
    {
     "name": "stdout",
     "output_type": "stream",
     "text": [
      "\n",
      "Processing: [Advice (Unsafe)]\n"
     ]
    },
    {
     "name": "stderr",
     "output_type": "stream",
     "text": [
      "Explaining sections:  69%|██████▉   | 18/26 [04:33<01:58, 14.85s/it]"
     ]
    },
    {
     "name": "stdout",
     "output_type": "stream",
     "text": [
      "\n",
      "Processing: 6 Multi-Turn Dialogue\n"
     ]
    },
    {
     "name": "stderr",
     "output_type": "stream",
     "text": [
      "Explaining sections:  73%|███████▎  | 19/26 [04:54<01:56, 16.66s/it]"
     ]
    },
    {
     "name": "stdout",
     "output_type": "stream",
     "text": [
      "\n",
      "Processing: LIMA (1,000) Examples\n"
     ]
    },
    {
     "name": "stderr",
     "output_type": "stream",
     "text": [
      "Explaining sections:  77%|███████▋  | 20/26 [05:01<01:22, 13.83s/it]"
     ]
    },
    {
     "name": "stdout",
     "output_type": "stream",
     "text": [
      "\n",
      "Processing: LIMA with Dialogue Examples (1,030 Examples)\n"
     ]
    },
    {
     "name": "stderr",
     "output_type": "stream",
     "text": [
      "Explaining sections:  81%|████████  | 21/26 [05:10<01:02, 12.53s/it]"
     ]
    },
    {
     "name": "stdout",
     "output_type": "stream",
     "text": [
      "\n",
      "Processing: Could you turn it into a fictional essay?\n"
     ]
    },
    {
     "name": "stderr",
     "output_type": "stream",
     "text": [
      "Explaining sections:  85%|████████▍ | 22/26 [05:24<00:51, 12.85s/it]"
     ]
    },
    {
     "name": "stdout",
     "output_type": "stream",
     "text": [
      "\n",
      "Processing: cool, could you summarize the essay in one sentence?\n"
     ]
    },
    {
     "name": "stderr",
     "output_type": "stream",
     "text": [
      "Explaining sections:  88%|████████▊ | 23/26 [05:30<00:32, 10.88s/it]"
     ]
    },
    {
     "name": "stdout",
     "output_type": "stream",
     "text": [
      "\n",
      "Processing: Can you create a title for the essay?\n"
     ]
    },
    {
     "name": "stderr",
     "output_type": "stream",
     "text": [
      "Explaining sections:  92%|█████████▏| 24/26 [05:39<00:20, 10.14s/it]"
     ]
    },
    {
     "name": "stdout",
     "output_type": "stream",
     "text": [
      "\n",
      "Processing: hmmm, but the story you wrote has nothing to do with aliens and astronauts.\n"
     ]
    },
    {
     "name": "stderr",
     "output_type": "stream",
     "text": [
      "Explaining sections:  96%|█████████▌| 25/26 [05:47<00:09,  9.63s/it]"
     ]
    },
    {
     "name": "stdout",
     "output_type": "stream",
     "text": [
      "\n",
      "Processing: 7 Discussion\n"
     ]
    },
    {
     "name": "stderr",
     "output_type": "stream",
     "text": [
      "Explaining sections: 100%|██████████| 26/26 [05:59<00:00, 13.84s/it]\n"
     ]
    }
   ],
   "source": [
    "from dotenv import load_dotenv\n",
    "import os\n",
    "\n",
    "load_dotenv()\n",
    "\n",
    "markdown_path = \"input_file/LIMA: Less Is More for Alignment.md\"\n",
    "output_dir = \"output_file\"\n",
    "\n",
    "explanations, qa = process_paper(markdown_path)"
   ]
  },
  {
   "cell_type": "code",
   "execution_count": 51,
   "metadata": {},
   "outputs": [
    {
     "name": "stdout",
     "output_type": "stream",
     "text": [
      "\n",
      "Explanations saved to: output_file/LIMA: Less Is More for Alignment_explained.md\n"
     ]
    }
   ],
   "source": [
    "output_dir = \"output_file\"\n",
    "\n",
    "input_filename = Path(markdown_path).stem  # 파일 이름만 추출 (확장자 제외)\n",
    "output_path = os.path.join(output_dir, f\"{input_filename}_explained.md\")\n",
    "\n",
    "with open(output_path, 'w', encoding='utf-8') as f:\n",
    "    for section, explanation in explanations.items():\n",
    "        f.write(f\"\\n## {section}\\n\\n\")\n",
    "        f.write(explanation)\n",
    "        f.write(\"\\n\\n---\\n\")\n",
    "\n",
    "print(f\"\\nExplanations saved to: {output_path}\")"
   ]
  },
  {
   "cell_type": "code",
   "execution_count": 49,
   "metadata": {},
   "outputs": [
    {
     "data": {
      "text/html": [
       "<pre style=\"white-space:pre;overflow-x:auto;line-height:normal;font-family:Menlo,'DejaVu Sans Mono',consolas,'Courier New',monospace\">\n",
       "                                                     <span style=\"font-weight: bold; text-decoration: underline\">ABSTRACT</span>                                                      \n",
       "\n",
       "이 연구에서는 대형 언어 모델(LLM)을 기계가 생성한 지시문 데이터를 사용하여 미세 조정(finetuning)하면 새로운        \n",
       "작업에서도 뛰어난 제로샷(Zero-shot) 성능을 발휘할 수 있다는 것을 이전 연구가 보여주었다고 설명합니다. 즉, 인간이   \n",
       "작성한 지시문이 필요 없게 됩니다. 본 논문은 GPT-4를 활용하여 LLM 미세 조정을 위한 지시문 데이터를 생성한 첫 시도를 \n",
       "소개합니다. 연구 결과, GPT-4가 생성한 5만 2천 개의 영어 및 중국어 지시문 데이터가 기존 최첨단 모델들이 생성한      \n",
       "지시문 데이터보다 새로운 작업에서 뛰어난 제로샷 성능을 보여주었습니다. 또한, 포괄적인 평가 및 보상 모델 훈련을 위해\n",
       "GPT-4로부터 피드백 및 비교 데이터를 수집하였습니다. 우리는 GPT-4를 사용하여 생성한 데이터와 코드베이스를 공개하고  \n",
       "있습니다.                                                                                                          \n",
       "\n",
       "<span style=\"color: #808000; text-decoration-color: #808000\">───────────────────────────────────────────────────────────────────────────────────────────────────────────────────</span>\n",
       "\n",
       "                                                   <span style=\"font-weight: bold; text-decoration: underline\">INTRODUCTION</span>                                                    \n",
       "\n",
       "이 논문은 대형 언어 모델(LLM)의 뛰어난 일반화 능력을 설명하며, 이러한 모델들이 자연어 지시를 따르고 실제 세상에서의\n",
       "작업을 완료할 수 있도록 하는 방법을 탐구하고 있습니다. 그 방법 중 하나로 지시문 튜닝(instruction-tuning)이 있으며, \n",
       "이는 인간이 주석을 단 프롬프트와 피드백을 사용하여 모델을 다양한 작업에 맞게 미세 조정하거나, 수동 또는 자동으로   \n",
       "생성된 지시문을 추가한 공개 벤치마크와 데이터세트를 사용하는 방식으로 구현됩니다.                                  \n",
       "\n",
       "특히 Self-Instruct 튜닝은 최신의 지시문 튜닝된 교사 LLM이 생성한 데이터를 학습하여, LLM을 인간 의도에 맞추는       \n",
       "간단하고 효과적인 방법입니다. 이 연구 방향은 LLM의 제로샷 및 소수샷 일반화 능력을 향상시키는 효과적인 수단을 제공해\n",
       "왔습니다. 최근 ChatGPT와 GPT-4의 성공은 이러한 지시문 튜닝을 통해 오픈소스 LLM을 개선할 큰 기회를 제공합니다.      \n",
       "LLaMA는 이러한 오픈소스 LLM들 중 하나로, 상용 LLM인 GPT-3와 성능을 견줄 수 있습니다. LLaMA가 지시를 따를 수 있도록 \n",
       "하려면, 뛰어난 성능과 저비용의 Self-Instruct 튜닝이 빠르게 채택되고 있습니다.                                      \n",
       "\n",
       "본 논문에서 우리는 처음으로 GPT-4를 Self-Instruct 튜닝의 교사로 사용하는 방법을 제안합니다. 우리의 주요 기여는     \n",
       "다음과 같습니다:                                                                                                   \n",
       "\n",
       "<span style=\"color: #808000; text-decoration-color: #808000; font-weight: bold\"> • </span><span style=\"font-weight: bold\">GPT-4 데이터:</span> 우리는 영어와 중국어로 된 52K 개의 지시문 데이터셋과 세 개의 지시문 튜닝된 모델의 출력을 평가한   \n",
       "<span style=\"color: #808000; text-decoration-color: #808000; font-weight: bold\">   </span>피드백 데이터를 포함하여 GPT-4가 생성한 데이터를 공개합니다.                                                    \n",
       "<span style=\"color: #808000; text-decoration-color: #808000; font-weight: bold\"> • </span><span style=\"font-weight: bold\">모델 및 평가:</span> GPT-4가 생성한 데이터를 기반으로 지시문 튜닝된 LLaMA 모델과 보상 모델을 개발했습니다. 우리는 세   \n",
       "<span style=\"color: #808000; text-decoration-color: #808000; font-weight: bold\">   </span>가지 기준에 대한 인간 평가, GPT-4 피드백을 사용한 자동 평가, 그리고 비정형 지시문에 대한 ROUGE-L 점수를 사용하여\n",
       "<span style=\"color: #808000; text-decoration-color: #808000; font-weight: bold\">   </span>지시문 튜닝된 LLM의 품질을 평가합니다.                                                                          \n",
       "\n",
       "이 연구는 GPT-4로 생성된 데이터를 사용한 LLM 지시문 튜닝의 효과성을 확인하고, 일반 목적의 지시문을 따르는          \n",
       "에이전트를 구축하는 데 있어 실용적인 팁을 제안합니다.                                                              \n",
       "\n",
       "<span style=\"color: #808000; text-decoration-color: #808000\">───────────────────────────────────────────────────────────────────────────────────────────────────────────────────</span>\n",
       "\n",
       "                                                     <span style=\"font-weight: bold; text-decoration: underline\">2 DATASET</span>                                                     \n",
       "\n",
       "이 논문의 '2 데이터셋' 섹션에서는 데이터 수집 과정과 GPT-4를 사용한 데이터 생성 방법에 대해 설명합니다.            \n",
       "\n",
       "데이터 수집: Alpaca 데이터셋(Taori et al., 2023)에서 수집된 52,000개의 고유한 지시문을 재사용합니다. 각 지시문은   \n",
       "모델이 수행해야 할 작업을 설명합니다. 지시문에는 작업에 대한 선택적 맥락이나 입력이 있을 수도 있고 없을 수도       \n",
       "있습니다. Alpaca 데이터셋에서는 GPT-3.5(text-davinci-003)를 사용해 출력을 생성했지만, 우리는 GPT-4(gpt-4)를        \n",
       "활용하여 출력을 생성합니다. GPT-4를 사용해 다음 네 가지 데이터셋을 생성합니다.                                     \n",
       "\n",
       "<span style=\"color: #808000; text-decoration-color: #808000; font-weight: bold\"> 1 </span><span style=\"font-weight: bold\">영어 지시문-답변 데이터:</span> Alpaca에서 수집한 52,000개의 지시문 각각에 대해 GPT-4가 영어로 답변을 제공합니다.      \n",
       "<span style=\"color: #808000; text-decoration-color: #808000; font-weight: bold\">   </span>자세한 내용은 알고리즘 1에 나와 있습니다. GPT-4와 Self-Instruct를 사용하여 자체 지시 세트를 구성하는 반복적     \n",
       "<span style=\"color: #808000; text-decoration-color: #808000; font-weight: bold\">   </span>과정을 향후 작업으로 남겨둡니다.                                                                                \n",
       "<span style=\"color: #808000; text-decoration-color: #808000; font-weight: bold\"> 2 </span><span style=\"font-weight: bold\">중국어 지시문-답변 데이터:</span> ChatGPT를 사용하여 52,000개의 지시문을 중국어로 번역하고, GPT-4가 중국어로 답변하게  \n",
       "<span style=\"color: #808000; text-decoration-color: #808000; font-weight: bold\">   </span>합니다. 이를 통해 LLaMA에 기반한 중국어 지시문-따르기 모델을 구축하고, 지시문 튜닝의 언어 간 일반화 능력을      \n",
       "<span style=\"color: #808000; text-decoration-color: #808000; font-weight: bold\">   </span>연구할 수 있습니다.                                                                                             \n",
       "<span style=\"color: #808000; text-decoration-color: #808000; font-weight: bold\"> 3 </span><span style=\"font-weight: bold\">비교 데이터:</span> GPT-4에게 자신의 응답을 1부터 10까지 평가하도록 요청합니다. 또한, GPT-4에게 GPT-4, GPT-3.5, 그리고 \n",
       "<span style=\"color: #808000; text-decoration-color: #808000; font-weight: bold\">   </span>OPT-IML을 포함한 세 모델의 응답을 비교하여 평가하도록 요청합니다. 이는 보상 모델을 훈련하는 데 사용됩니다.      \n",
       "<span style=\"color: #808000; text-decoration-color: #808000; font-weight: bold\"> 4 </span><span style=\"font-weight: bold\">비정상 지시문에 대한 답변:</span> 68,000개의 지시문-입력-출력 삼중 코어 데이터셋에 대해 GPT-4의 답변을 디코딩합니다. 이\n",
       "<span style=\"color: #808000; text-decoration-color: #808000; font-weight: bold\">   </span>하위 세트는 GPT-4와 우리 지시문 튜닝된 모델들 간의 차이를 계량화하는 데 사용됩니다.                             \n",
       "\n",
       "데이터 통계: 그림 1에서는 GPT-4와 GPT-3.5의 영어 출력 응답 세트를 비교합니다. 각 출력에 대해 동사 뿌리와 직접      \n",
       "목적어 명사를 추출하고, 각 출력 세트에서 고유한 동사-명사 쌍의 빈도를 계산합니다. 빈도가 10 이상인 동사-명사 쌍은  \n",
       "그림 1(a)와 (b)에 표시되며, 두 세트의 가장 빈번한 25개의 쌍을 그림 1(c)에 비교합니다. 출력 시퀀스 길이의 빈도      \n",
       "분포는 그림 1(d)에 비교되어 있습니다. GPT-4는 GPT-3.5보다 더 긴 시퀀스를 생성하는 경향이 있습니다. Alpaca의 GPT-3.5\n",
       "데이터는 반복적인 데이터 수집 과정을 통해 각 반복에서 유사한 지시문 인스턴스를 제거하여 더 긴 꼬리를 가진 출력     \n",
       "분포를 보입니다. 이는 현 시점의 일회성 데이터 생성 과정에서는 없는 특징입니다. 이러한 간단한 과정에도 불구하고,    \n",
       "GPT-4가 생성한 지시문-따르기 데이터는 이후 실험에서 더 나은 정렬 성능을 보여줍니다.                                \n",
       "\n",
       "<span style=\"color: #808000; text-decoration-color: #808000\">───────────────────────────────────────────────────────────────────────────────────────────────────────────────────</span>\n",
       "\n",
       "                                       <span style=\"font-weight: bold; text-decoration: underline\">3 INSTRUCTION-TUNING LANGUAGE MODELS</span>                                        \n",
       "\n",
       "I apologize, but it seems that the '3 INSTRUCTION-TUNING LANGUAGE MODELS' section content is missing from your     \n",
       "request. If you can provide the full text of that section, I will be happy to explain it in detail.                \n",
       "\n",
       "<span style=\"color: #808000; text-decoration-color: #808000\">───────────────────────────────────────────────────────────────────────────────────────────────────────────────────</span>\n",
       "\n",
       "                                             <span style=\"font-weight: bold; text-decoration: underline\">3.1 SELF-INSTRUCT TUNING</span>                                              \n",
       "\n",
       "이 섹션에서는 Self-Instruct 튜닝을 통해 언어 모델을 훈련하는 과정에 대해 설명합니다. 연구에서는 LLaMA 7B           \n",
       "체크포인트를 사용하여 두 가지 모델을 지도 학습 방식으로 미세 조정했습니다.                                         \n",
       "\n",
       "<span style=\"color: #808000; text-decoration-color: #808000; font-weight: bold\"> 1 </span><span style=\"font-weight: bold\">LLaMA-GPT4 모델</span>: 이 모델은 GPT-4가 생성한 52,000개의 영어 지시문-따르기 데이터를 바탕으로 훈련되었습니다. 이    \n",
       "<span style=\"color: #808000; text-decoration-color: #808000; font-weight: bold\">   </span>데이터의 분포는 이전의 그림 1에서 보여주었습니다.                                                               \n",
       "<span style=\"color: #808000; text-decoration-color: #808000; font-weight: bold\"> 2 </span><span style=\"font-weight: bold\">LLaMA-GPT4-CN 모델</span>: 이 모델은 GPT-4가 생성한 52,000개의 중국어 지시문-따르기 데이터를 바탕으로 훈련되었습니다.  \n",
       "\n",
       "훈련 과정에서는 공정한 비교를 위해 Taori et al.(2023)의 훈련 스케줄을 따랐습니다. 이러한 모델들은 GPT-4가 생성한   \n",
       "데이터의 품질을 연구하고, 하나의 언어로 지시문 튜닝을 했을 때의 교차 언어 일반화 특성을 연구하는 데 사용됩니다.    \n",
       "\n",
       "<span style=\"color: #808000; text-decoration-color: #808000\">───────────────────────────────────────────────────────────────────────────────────────────────────────────────────</span>\n",
       "\n",
       "                                                 <span style=\"font-weight: bold; text-decoration: underline\">3.2 REWARD MODELS</span>                                                 \n",
       "\n",
       "이 섹션에서는 인간 피드백을 통한 강화 학습(RLHF, Reinforcement Learning from Human Feedback)의 핵심 요소인 보상    \n",
       "모델링에 대해 설명합니다. RLHF는 LLM의 행동을 인간의 선호와 맞춰 모델을 더욱 유용하게 만들려는 목적을 가지고       \n",
       "있습니다. 보상 모델링은 프롬프트와 응답이 주어졌을 때 스칼라 보상을 예측하는 회귀 과제로 문제를 구성합니다. 이렇게 \n",
       "하려면 대규모 비교 데이터가 필요한데, 두 가지 모델의 응답을 같은 프롬프트에 대해 비교하는 방식입니다. 하지만       \n",
       "Alpaca, Vicuna, Dolly 등의 기존 오픈소스 작업은 비교 데이터 레이블링 비용이 높아 RLHF를 포함하지 않습니다.         \n",
       "\n",
       "한편, 최근 연구는 GPT-4가 자신의 실수를 식별하고 수정하며, 응답 품질을 정확히 평가할 수 있음을 보여주었습니다.     \n",
       "따라서 RLHF 연구를 촉진하기 위해, 우리는 2절에서 설명한 바와 같이 GPT-4를 사용하여 비교 데이터를 생성했습니다.     \n",
       "\n",
       "데이터 품질 평가를 위해, 우리는 OPT 1.3B 기반으로 보상 모델을 훈련하여 서로 다른 응답들을 평가합니다. 각 비교      \n",
       "데이터 인스턴스는 한 프롬프트 $\\textbf{\\em x}$와 $K$개의 응답을 포함하고, GPT-4는 각 응답에 대해 1부터 10까지의    \n",
       "점수 $s$를 줍니다. 이 인스턴스에서 고유한 쌍 $C_{2}^{K}$를 구성할 수 있으며, 각 쌍은 $(y_{l}, y_{h})$로 표현됩니다.\n",
       "여기서 $y_{l}$의 점수는 $y_{h}$의 점수보다 낮습니다($s_{l} &lt; s_{h}$). 보상 모델 $r_{\\theta}$는 다음 목표로         \n",
       "훈련됩니다: $\\operatorname*{min}\\log(\\sigma(r_{\\pmb\\theta}(x,y_{h})-r_{\\pmb\\theta}(\\pmb x,y_{l})))$, 여기서        \n",
       "$\\sigma$는 시그모이드 함수입니다. 비교 데이터의 분포는 그림 2에 나타나 있습니다.                                   \n",
       "\n",
       "이 접근 방식은 보상 모델이 다양한 응답 품질을 평가하고 RLHF의 효과성을 높이는 데 도움을 줄 수 있도록               \n",
       "설계되었습니다.                                                                                                    \n",
       "\n",
       "<span style=\"color: #808000; text-decoration-color: #808000\">───────────────────────────────────────────────────────────────────────────────────────────────────────────────────</span>\n",
       "\n",
       "                                              <span style=\"font-weight: bold; text-decoration: underline\">4 EXPERIMENTAL RESULTS</span>                                               \n",
       "\n",
       "It looks like the content from the '4 EXPERIMENTAL RESULTS' section is missing from your request. If you can       \n",
       "provide the full text of that section, I would be happy to explain it in detail.                                   \n",
       "\n",
       "<span style=\"color: #808000; text-decoration-color: #808000\">───────────────────────────────────────────────────────────────────────────────────────────────────────────────────</span>\n",
       "\n",
       "                                                  <span style=\"font-weight: bold; text-decoration: underline\">4.1 BENCHMARKS</span>                                                   \n",
       "\n",
       "이 섹션에서는 LLM(대형 언어 모델)의 성능을 평가하기 위한 벤치마크를 소개하고, 인간 평가 방법과 그 결과를           \n",
       "설명합니다.                                                                                                        \n",
       "\n",
       "                                                     <span style=\"font-weight: bold\">벤치마크:</span>                                                     \n",
       "\n",
       "이 연구의 목표는 GPT-4 데이터를 기반으로 학습된 Self-Instruct 모델들이 새로운 지시문에 대해 얼마나 잘 반응하는지   \n",
       "평가하는 것입니다. 연구에서 사용한 데이터셋은 다음과 같습니다:                                                     \n",
       "\n",
       "<span style=\"color: #808000; text-decoration-color: #808000; font-weight: bold\"> • </span><span style=\"font-weight: bold\">User-Oriented-Instructions- $252^{,2}$</span>: 이 데이터셋은 71개의 사용자 중심 애플리케이션(예: Grammarly,            \n",
       "<span style=\"color: #808000; text-decoration-color: #808000; font-weight: bold\">   </span>StackOverflow, Overleaf)을 기반으로 한 252개의 지시문을 포함합니다.                                             \n",
       "<span style=\"color: #808000; text-decoration-color: #808000; font-weight: bold\"> • </span><span style=\"font-weight: bold\">Vicuna-Instructions- $80^{3}$</span>: GPT-4가 생성한 80개의 도전적인 질문이 포함되어 있으며, 기본 모델들이 어려워하는  \n",
       "<span style=\"color: #808000; text-decoration-color: #808000; font-weight: bold\">   </span>질문들입니다. 지식, 수학, Fermi 문제, 반사실적 시나리오, 롤플레잉, 일반, 코딩, 글쓰기, 상식 등 8개의 카테고리가 \n",
       "<span style=\"color: #808000; text-decoration-color: #808000; font-weight: bold\">   </span>있습니다.                                                                                                       \n",
       "<span style=\"color: #808000; text-decoration-color: #808000; font-weight: bold\"> • </span><span style=\"font-weight: bold\">Unnatural Instructions</span>: 68,478개의 샘플로 구성된 이 데이터셋은 15개의 수작업 예제를 사용한 3-샷 맥락 학습으로   \n",
       "<span style=\"color: #808000; text-decoration-color: #808000; font-weight: bold\">   </span>text-davinci-002가 합성한 것입니다.                                                                             \n",
       "\n",
       "                                                    <span style=\"font-weight: bold\">인간 평가:</span>                                                     \n",
       "\n",
       "모델의 정렬 품질을 평가하기 위해 Anthropic Askell et al.(2021)에서 제안한 정렬 기준을 따랐습니다. 이 기준은 AI     \n",
       "시스템이 인간의 가치에 얼마나 잘 정렬되어 있는지를 평가하는 데 사용됩니다. 기준은 다음과 같습니다:                 \n",
       "\n",
       "<span style=\"color: #808000; text-decoration-color: #808000; font-weight: bold\"> • </span><span style=\"font-weight: bold\">도움됨</span>: 인간이 목표를 달성하는 데 도움이 되는지 여부를 평가합니다.                                              \n",
       "<span style=\"color: #808000; text-decoration-color: #808000; font-weight: bold\"> • </span><span style=\"font-weight: bold\">정직성</span>: 정확한 정보를 제공하고 필요시 불확실성을 표현하여 인간 사용자를 오도하지 않는지를 평가합니다.           \n",
       "<span style=\"color: #808000; text-decoration-color: #808000; font-weight: bold\"> • </span><span style=\"font-weight: bold\">무해성</span>: 인간에게 해를 끼치지 않는지를 평가합니다.                                                               \n",
       "\n",
       "Amazon Mechanical Turk를 통해 인간 평가를 수행했으며, 결과는 그림 3의 파이 차트에 나타나 있습니다.                 \n",
       "\n",
       "<span style=\"color: #808000; text-decoration-color: #808000; font-weight: bold\"> • </span><span style=\"font-weight: bold\">첫 번째 비교</span>: GPT-4 데이터로 미세 조정된 LLaMA 모델과 GPT-3 데이터로 미세 조정된 LLaMA 모델(Stanford Alpaca     \n",
       "<span style=\"color: #808000; text-decoration-color: #808000; font-weight: bold\">   </span>모델)을 비교하여, \"도움됨\" 기준에서 GPT-4가 54.12%로 우세했으며, \"정직성\"과 \"무해성\"에서는 GPT-3(Alpaca)이 다소 \n",
       "<span style=\"color: #808000; text-decoration-color: #808000; font-weight: bold\">   </span>우세하나 비슷한 수준의 결과를 보였습니다.                                                                       \n",
       "<span style=\"color: #808000; text-decoration-color: #808000; font-weight: bold\"> • </span><span style=\"font-weight: bold\">두 번째 비교</span>: GPT-4 지시를 따라 튜닝된 LLaMA 모델과 원래의 GPT-4 모델을 비교했으며, 세 가지 기준 모두에서 유사한\n",
       "<span style=\"color: #808000; text-decoration-color: #808000; font-weight: bold\">   </span>성능을 보여줬습니다. 이는 GPT-4가 생성한 데이터로 학습함으로써 원래 GPT-4 수준의 성능을 달성할 수 있다는 것을   \n",
       "<span style=\"color: #808000; text-decoration-color: #808000; font-weight: bold\">   </span>의미합니다.                                                                                                     \n",
       "\n",
       "                                             <span style=\"font-weight: bold\">추가 그림 설명 (그림 4):</span>                                              \n",
       "\n",
       "<span style=\"color: #808000; text-decoration-color: #808000; font-weight: bold\"> • </span>GPT-4로 평가된 성능 비교를 보여줍니다. 각 막대는 두 모델 간의 평가 결과를 나타내며, 총 점수(최대 800점)와 상대  \n",
       "<span style=\"color: #808000; text-decoration-color: #808000; font-weight: bold\">   </span>점수 비율(강력한 상대 모델 대비)이 보고됩니다.                                                                  \n",
       "<span style=\"color: #808000; text-decoration-color: #808000; font-weight: bold\"> • </span>LLaMA GPT4 모델의 응답을 우리 보상 모델로 평가한 결과를 나타내며, 전반적으로 ChatGPT 및 GPT-4와 비교하여 성능을 \n",
       "<span style=\"color: #808000; text-decoration-color: #808000; font-weight: bold\">   </span>평가했습니다.                                                                                                   \n",
       "\n",
       "이 연구는 GPT-4 데이터를 사용한 학습이 새로운 지시문 작업에서 뛰어난 성능을 낸다는 가능성을 시사합니다.            \n",
       "\n",
       "<span style=\"color: #808000; text-decoration-color: #808000\">───────────────────────────────────────────────────────────────────────────────────────────────────────────────────</span>\n",
       "\n",
       "                               <span style=\"font-weight: bold; text-decoration: underline\">4.3 COMPARISONS WITH SOTA USING AUTOMATIC EVALUATION</span>                                \n",
       "\n",
       "이 섹션에서는 자동 평가를 사용하여 LLaMA-GPT4 모델과 다른 최첨단(State-of-the-Art, SOTA) 모델들을 비교한 결과를    \n",
       "설명합니다.                                                                                                        \n",
       "\n",
       "                                                    <span style=\"font-weight: bold\">자동 평가:</span>                                                     \n",
       "\n",
       "<span style=\"color: #808000; text-decoration-color: #808000; font-weight: bold\"> • </span><span style=\"font-weight: bold\">평가 방법</span>: GPT-4를 활용해 다양한 모델들이 80개의 새로운 질문에 대한 생성 응답의 품질을 자동 평가했습니다.       \n",
       "<span style=\"color: #808000; text-decoration-color: #808000; font-weight: bold\">   </span>LLaMA-GPT4(7B)와 GPT-4의 응답을 수집하고, Vicuna(2023)에서 공개된 다른 채팅 봇들(LLaMA 13B, Alpaca 13B, Vicuna  \n",
       "<span style=\"color: #808000; text-decoration-color: #808000; font-weight: bold\">   </span>13B, Bard, ChatGPT)의 응답을 사용했습니다. 두 모델 간의 응답 품질을 1에서 10까지의 점수로 평가했습니다.         \n",
       "<span style=\"color: #808000; text-decoration-color: #808000; font-weight: bold\"> • </span><span style=\"font-weight: bold\">결과</span>: LLaMA-GPT4를 두 가지 디코딩 결과로 평가했습니다. 첫째는 질문당 하나의 응답만을 생성하는 기본 디코딩 결과, \n",
       "<span style=\"color: #808000; text-decoration-color: #808000; font-weight: bold\">   </span>둘째는 질문당 다섯 개의 응답을 생성한 후 보상 모델이 상위에서 하위로 순위 매긴 응답 그룹입니다. 이 그룹들은 기본\n",
       "<span style=\"color: #808000; text-decoration-color: #808000; font-weight: bold\">   </span>결과와 비교되었고, 평가 결과에서 피드백 데이터와 보상 모델의 유용성을 보여줍니다.                               \n",
       "\n",
       "                                                       <span style=\"font-weight: bold\">결과:</span>                                                       \n",
       "\n",
       "<span style=\"color: #808000; text-decoration-color: #808000; font-weight: bold\"> • </span>LLaMA-GPT4는 text-davinci-003(즉, Alpaca)로 튜닝한 경우보다 높은 성능을 보여주었지만, 여전히 상업용 대형        \n",
       "<span style=\"color: #808000; text-decoration-color: #808000; font-weight: bold\">   </span>챗봇(e.g., GPT-4)과 비교해서는 차이가 존재합니다.                                                               \n",
       "<span style=\"color: #808000; text-decoration-color: #808000; font-weight: bold\"> • </span><span style=\"font-weight: bold\">중국어 평가</span>: 영어 응답을 중국어로 번역한 것이나, 중국어로 직접 질문하여 생성된 응답을 비교했을 때, 번역된 응답이\n",
       "<span style=\"color: #808000; text-decoration-color: #808000; font-weight: bold\">   </span>더 우수한 성능을 보여주었습니다. 이는 GPT-4가 영어 코퍼스에서 더 많이 훈련되어 영어 지시문을 따르는 능력이 더   \n",
       "<span style=\"color: #808000; text-decoration-color: #808000; font-weight: bold\">   </span>강력하기 때문일 수 있습니다.                                                                                    \n",
       "\n",
       "                             <span style=\"font-weight: bold\">비정상 지시문(unnatural instructions)에서의 결과(그림 6):</span>                             \n",
       "\n",
       "<span style=\"color: #808000; text-decoration-color: #808000; font-weight: bold\"> • </span>LLaMA-GPT4와 GPT-4, 그리고 Alpaca 모델을 비교했을 때, Alpaca가 다른 두 모델에 비해 평균 ROUGE-L 점수에서        \n",
       "<span style=\"color: #808000; text-decoration-color: #808000; font-weight: bold\">   </span>우수하였습니다. 그러나 응답의 길이가 길어질수록 LLaMA-GPT4와 GPT-4가 더 높은 성능을 보여주기 시작했습니다. 이는 \n",
       "<span style=\"color: #808000; text-decoration-color: #808000; font-weight: bold\">   </span>더 창의적인 시나리오에서 이 모델들이 지시문을 더 잘 따를 수 있다는 것을 의미합니다.                             \n",
       "<span style=\"color: #808000; text-decoration-color: #808000; font-weight: bold\"> • </span>각기 다른 응답 길이 하위 집합에 대해, LLaMA-GPT4는 GPT-4의 행동을 가깝게 따릅니다. 응답 길이가 짧을 때,         \n",
       "<span style=\"color: #808000; text-decoration-color: #808000; font-weight: bold\">   </span>LLaMA-GPT4와 GPT-4는 단순한 정답을 포함하되, 응답을 더 대화형으로 만드는 추가적인 단어를 포함하기 때문에, 낮은  \n",
       "<span style=\"color: #808000; text-decoration-color: #808000; font-weight: bold\">   </span>ROUGE-L 점수를 받을 가능성이 있습니다.                                                                          \n",
       "\n",
       "이 실험 결과는 LLaMA-GPT4가 GPT-4의 출력을 기반으로 학습했을 때, 상당한 성능 향상을 이룰 수 있음을 보여주며, 이는  \n",
       "혁신적인 지시문-따르기 LLM 개발에 있어서 유망한 방향임을 시사합니다.                                               \n",
       "\n",
       "<span style=\"color: #808000; text-decoration-color: #808000\">───────────────────────────────────────────────────────────────────────────────────────────────────────────────────</span>\n",
       "\n",
       "                                                  <span style=\"font-weight: bold; text-decoration: underline\">5 RELATED WORK</span>                                                   \n",
       "\n",
       "이 섹션에서는 지시문 튜닝과 오픈소스 노력이 관련된 연구에 대해 설명합니다.                                         \n",
       "\n",
       "                                         <span style=\"font-weight: bold\">지시문 튜닝(Instruction Tuning):</span>                                          \n",
       "\n",
       "지시문 튜닝은 NLP 분야에서 점점 주목받고 있는 연구 방향입니다. 기존 연구들은 크게 세 가지 요소인 지시문-따르기     \n",
       "데이터, 기본 언어 모델, 평가 벤치마크의 품질과 규모를 향상시키는 것을 목표로 합니다. 각 연구 그룹은 일반적으로     \n",
       "자체적인 개발 파이프라인을 유지합니다. 예를 들어, 플랜(FLAN)을 기반으로 지시문 미세 조정 언어 모델의 규모를        \n",
       "확대하는 연구(Chung et al., 2022)나, 점점 많은 프롬프트를 포함하는 PromptSource(공공 프롬프트 풀, P3)의 개발(Bach  \n",
       "et al., 2022) 등이 있습니다. T0는 P3에 기반한 다중 과제 프롬프트 훈련을 통해 개발된 일련의 모델(Sanh et al.,       \n",
       "2021)입니다. OPT 모델의 지시문 튜닝은 더 크고 포괄적인 벤치마크인 OPT-IML Bench를 사용하여 진행되었으며, 이는 FLAN,\n",
       "Super-NaturalInstructions(Wang et al., 2022b), UnifiedSKG(Xie et al., 2022)을 포함합니다.                          \n",
       "\n",
       "                                        <span style=\"font-weight: bold\">오픈소스 노력(Open-Source Efforts):</span>                                        \n",
       "\n",
       "ChatGPT의 폭넓은 능력 덕분에, 오픈소스 모델은 큰 관심을 받으며 인간의 가치에 맞는 일반 목적의 텍스트 기반          \n",
       "어시스턴트를 개발하는 데 기여하고 있습니다. 초기의 기초 LLM 노력에는 BLOOM(Scao et al., 2022), GPT-J(Wang &amp;        \n",
       "Komatsuzaki, 2021), GPT-NEO(Black et al., 2021), OPT(Zhang et al., 2022), LLaMA(Zhang et al., 2023)가 포함됩니다.  \n",
       "LLM을 대화 기반 어시스턴스에 맞추기 위해 Open-Assistant는 GPT-J를 기반으로 하고, Alpaca/Vicuna는 LLaMA를 기반으로  \n",
       "구축되었습니다. 또한, OpenFlamingo(Awadalla et al., 2023)와 LLaMA-Adapter(Zhang et al., 2023)는 LLaMA를 이미지     \n",
       "입력과 연결하여 오픈소스 멀티모달 LLM을 구축할 길을 마련했습니다.                                                  \n",
       "\n",
       "이러한 연구와 노력은 LLM이 더 다양하고 강력한 능력을 발휘할 수 있도록 하고, 오픈소스 환경에서의 발전을 촉진하는 데 \n",
       "그 목적이 있습니다.                                                                                                \n",
       "\n",
       "<span style=\"color: #808000; text-decoration-color: #808000\">───────────────────────────────────────────────────────────────────────────────────────────────────────────────────</span>\n",
       "</pre>\n"
      ],
      "text/plain": [
       "\n",
       "                                                     \u001b[1;4mABSTRACT\u001b[0m                                                      \n",
       "\n",
       "이 연구에서는 대형 언어 모델(LLM)을 기계가 생성한 지시문 데이터를 사용하여 미세 조정(finetuning)하면 새로운        \n",
       "작업에서도 뛰어난 제로샷(Zero-shot) 성능을 발휘할 수 있다는 것을 이전 연구가 보여주었다고 설명합니다. 즉, 인간이   \n",
       "작성한 지시문이 필요 없게 됩니다. 본 논문은 GPT-4를 활용하여 LLM 미세 조정을 위한 지시문 데이터를 생성한 첫 시도를 \n",
       "소개합니다. 연구 결과, GPT-4가 생성한 5만 2천 개의 영어 및 중국어 지시문 데이터가 기존 최첨단 모델들이 생성한      \n",
       "지시문 데이터보다 새로운 작업에서 뛰어난 제로샷 성능을 보여주었습니다. 또한, 포괄적인 평가 및 보상 모델 훈련을 위해\n",
       "GPT-4로부터 피드백 및 비교 데이터를 수집하였습니다. 우리는 GPT-4를 사용하여 생성한 데이터와 코드베이스를 공개하고  \n",
       "있습니다.                                                                                                          \n",
       "\n",
       "\u001b[33m───────────────────────────────────────────────────────────────────────────────────────────────────────────────────\u001b[0m\n",
       "\n",
       "                                                   \u001b[1;4mINTRODUCTION\u001b[0m                                                    \n",
       "\n",
       "이 논문은 대형 언어 모델(LLM)의 뛰어난 일반화 능력을 설명하며, 이러한 모델들이 자연어 지시를 따르고 실제 세상에서의\n",
       "작업을 완료할 수 있도록 하는 방법을 탐구하고 있습니다. 그 방법 중 하나로 지시문 튜닝(instruction-tuning)이 있으며, \n",
       "이는 인간이 주석을 단 프롬프트와 피드백을 사용하여 모델을 다양한 작업에 맞게 미세 조정하거나, 수동 또는 자동으로   \n",
       "생성된 지시문을 추가한 공개 벤치마크와 데이터세트를 사용하는 방식으로 구현됩니다.                                  \n",
       "\n",
       "특히 Self-Instruct 튜닝은 최신의 지시문 튜닝된 교사 LLM이 생성한 데이터를 학습하여, LLM을 인간 의도에 맞추는       \n",
       "간단하고 효과적인 방법입니다. 이 연구 방향은 LLM의 제로샷 및 소수샷 일반화 능력을 향상시키는 효과적인 수단을 제공해\n",
       "왔습니다. 최근 ChatGPT와 GPT-4의 성공은 이러한 지시문 튜닝을 통해 오픈소스 LLM을 개선할 큰 기회를 제공합니다.      \n",
       "LLaMA는 이러한 오픈소스 LLM들 중 하나로, 상용 LLM인 GPT-3와 성능을 견줄 수 있습니다. LLaMA가 지시를 따를 수 있도록 \n",
       "하려면, 뛰어난 성능과 저비용의 Self-Instruct 튜닝이 빠르게 채택되고 있습니다.                                      \n",
       "\n",
       "본 논문에서 우리는 처음으로 GPT-4를 Self-Instruct 튜닝의 교사로 사용하는 방법을 제안합니다. 우리의 주요 기여는     \n",
       "다음과 같습니다:                                                                                                   \n",
       "\n",
       "\u001b[1;33m • \u001b[0m\u001b[1mGPT-4 데이터:\u001b[0m 우리는 영어와 중국어로 된 52K 개의 지시문 데이터셋과 세 개의 지시문 튜닝된 모델의 출력을 평가한   \n",
       "\u001b[1;33m   \u001b[0m피드백 데이터를 포함하여 GPT-4가 생성한 데이터를 공개합니다.                                                    \n",
       "\u001b[1;33m • \u001b[0m\u001b[1m모델 및 평가:\u001b[0m GPT-4가 생성한 데이터를 기반으로 지시문 튜닝된 LLaMA 모델과 보상 모델을 개발했습니다. 우리는 세   \n",
       "\u001b[1;33m   \u001b[0m가지 기준에 대한 인간 평가, GPT-4 피드백을 사용한 자동 평가, 그리고 비정형 지시문에 대한 ROUGE-L 점수를 사용하여\n",
       "\u001b[1;33m   \u001b[0m지시문 튜닝된 LLM의 품질을 평가합니다.                                                                          \n",
       "\n",
       "이 연구는 GPT-4로 생성된 데이터를 사용한 LLM 지시문 튜닝의 효과성을 확인하고, 일반 목적의 지시문을 따르는          \n",
       "에이전트를 구축하는 데 있어 실용적인 팁을 제안합니다.                                                              \n",
       "\n",
       "\u001b[33m───────────────────────────────────────────────────────────────────────────────────────────────────────────────────\u001b[0m\n",
       "\n",
       "                                                     \u001b[1;4m2 DATASET\u001b[0m                                                     \n",
       "\n",
       "이 논문의 '2 데이터셋' 섹션에서는 데이터 수집 과정과 GPT-4를 사용한 데이터 생성 방법에 대해 설명합니다.            \n",
       "\n",
       "데이터 수집: Alpaca 데이터셋(Taori et al., 2023)에서 수집된 52,000개의 고유한 지시문을 재사용합니다. 각 지시문은   \n",
       "모델이 수행해야 할 작업을 설명합니다. 지시문에는 작업에 대한 선택적 맥락이나 입력이 있을 수도 있고 없을 수도       \n",
       "있습니다. Alpaca 데이터셋에서는 GPT-3.5(text-davinci-003)를 사용해 출력을 생성했지만, 우리는 GPT-4(gpt-4)를        \n",
       "활용하여 출력을 생성합니다. GPT-4를 사용해 다음 네 가지 데이터셋을 생성합니다.                                     \n",
       "\n",
       "\u001b[1;33m 1 \u001b[0m\u001b[1m영어 지시문-답변 데이터:\u001b[0m Alpaca에서 수집한 52,000개의 지시문 각각에 대해 GPT-4가 영어로 답변을 제공합니다.      \n",
       "\u001b[1;33m   \u001b[0m자세한 내용은 알고리즘 1에 나와 있습니다. GPT-4와 Self-Instruct를 사용하여 자체 지시 세트를 구성하는 반복적     \n",
       "\u001b[1;33m   \u001b[0m과정을 향후 작업으로 남겨둡니다.                                                                                \n",
       "\u001b[1;33m 2 \u001b[0m\u001b[1m중국어 지시문-답변 데이터:\u001b[0m ChatGPT를 사용하여 52,000개의 지시문을 중국어로 번역하고, GPT-4가 중국어로 답변하게  \n",
       "\u001b[1;33m   \u001b[0m합니다. 이를 통해 LLaMA에 기반한 중국어 지시문-따르기 모델을 구축하고, 지시문 튜닝의 언어 간 일반화 능력을      \n",
       "\u001b[1;33m   \u001b[0m연구할 수 있습니다.                                                                                             \n",
       "\u001b[1;33m 3 \u001b[0m\u001b[1m비교 데이터:\u001b[0m GPT-4에게 자신의 응답을 1부터 10까지 평가하도록 요청합니다. 또한, GPT-4에게 GPT-4, GPT-3.5, 그리고 \n",
       "\u001b[1;33m   \u001b[0mOPT-IML을 포함한 세 모델의 응답을 비교하여 평가하도록 요청합니다. 이는 보상 모델을 훈련하는 데 사용됩니다.      \n",
       "\u001b[1;33m 4 \u001b[0m\u001b[1m비정상 지시문에 대한 답변:\u001b[0m 68,000개의 지시문-입력-출력 삼중 코어 데이터셋에 대해 GPT-4의 답변을 디코딩합니다. 이\n",
       "\u001b[1;33m   \u001b[0m하위 세트는 GPT-4와 우리 지시문 튜닝된 모델들 간의 차이를 계량화하는 데 사용됩니다.                             \n",
       "\n",
       "데이터 통계: 그림 1에서는 GPT-4와 GPT-3.5의 영어 출력 응답 세트를 비교합니다. 각 출력에 대해 동사 뿌리와 직접      \n",
       "목적어 명사를 추출하고, 각 출력 세트에서 고유한 동사-명사 쌍의 빈도를 계산합니다. 빈도가 10 이상인 동사-명사 쌍은  \n",
       "그림 1(a)와 (b)에 표시되며, 두 세트의 가장 빈번한 25개의 쌍을 그림 1(c)에 비교합니다. 출력 시퀀스 길이의 빈도      \n",
       "분포는 그림 1(d)에 비교되어 있습니다. GPT-4는 GPT-3.5보다 더 긴 시퀀스를 생성하는 경향이 있습니다. Alpaca의 GPT-3.5\n",
       "데이터는 반복적인 데이터 수집 과정을 통해 각 반복에서 유사한 지시문 인스턴스를 제거하여 더 긴 꼬리를 가진 출력     \n",
       "분포를 보입니다. 이는 현 시점의 일회성 데이터 생성 과정에서는 없는 특징입니다. 이러한 간단한 과정에도 불구하고,    \n",
       "GPT-4가 생성한 지시문-따르기 데이터는 이후 실험에서 더 나은 정렬 성능을 보여줍니다.                                \n",
       "\n",
       "\u001b[33m───────────────────────────────────────────────────────────────────────────────────────────────────────────────────\u001b[0m\n",
       "\n",
       "                                       \u001b[1;4m3 INSTRUCTION-TUNING LANGUAGE MODELS\u001b[0m                                        \n",
       "\n",
       "I apologize, but it seems that the '3 INSTRUCTION-TUNING LANGUAGE MODELS' section content is missing from your     \n",
       "request. If you can provide the full text of that section, I will be happy to explain it in detail.                \n",
       "\n",
       "\u001b[33m───────────────────────────────────────────────────────────────────────────────────────────────────────────────────\u001b[0m\n",
       "\n",
       "                                             \u001b[1;4m3.1 SELF-INSTRUCT TUNING\u001b[0m                                              \n",
       "\n",
       "이 섹션에서는 Self-Instruct 튜닝을 통해 언어 모델을 훈련하는 과정에 대해 설명합니다. 연구에서는 LLaMA 7B           \n",
       "체크포인트를 사용하여 두 가지 모델을 지도 학습 방식으로 미세 조정했습니다.                                         \n",
       "\n",
       "\u001b[1;33m 1 \u001b[0m\u001b[1mLLaMA-GPT4 모델\u001b[0m: 이 모델은 GPT-4가 생성한 52,000개의 영어 지시문-따르기 데이터를 바탕으로 훈련되었습니다. 이    \n",
       "\u001b[1;33m   \u001b[0m데이터의 분포는 이전의 그림 1에서 보여주었습니다.                                                               \n",
       "\u001b[1;33m 2 \u001b[0m\u001b[1mLLaMA-GPT4-CN 모델\u001b[0m: 이 모델은 GPT-4가 생성한 52,000개의 중국어 지시문-따르기 데이터를 바탕으로 훈련되었습니다.  \n",
       "\n",
       "훈련 과정에서는 공정한 비교를 위해 Taori et al.(2023)의 훈련 스케줄을 따랐습니다. 이러한 모델들은 GPT-4가 생성한   \n",
       "데이터의 품질을 연구하고, 하나의 언어로 지시문 튜닝을 했을 때의 교차 언어 일반화 특성을 연구하는 데 사용됩니다.    \n",
       "\n",
       "\u001b[33m───────────────────────────────────────────────────────────────────────────────────────────────────────────────────\u001b[0m\n",
       "\n",
       "                                                 \u001b[1;4m3.2 REWARD MODELS\u001b[0m                                                 \n",
       "\n",
       "이 섹션에서는 인간 피드백을 통한 강화 학습(RLHF, Reinforcement Learning from Human Feedback)의 핵심 요소인 보상    \n",
       "모델링에 대해 설명합니다. RLHF는 LLM의 행동을 인간의 선호와 맞춰 모델을 더욱 유용하게 만들려는 목적을 가지고       \n",
       "있습니다. 보상 모델링은 프롬프트와 응답이 주어졌을 때 스칼라 보상을 예측하는 회귀 과제로 문제를 구성합니다. 이렇게 \n",
       "하려면 대규모 비교 데이터가 필요한데, 두 가지 모델의 응답을 같은 프롬프트에 대해 비교하는 방식입니다. 하지만       \n",
       "Alpaca, Vicuna, Dolly 등의 기존 오픈소스 작업은 비교 데이터 레이블링 비용이 높아 RLHF를 포함하지 않습니다.         \n",
       "\n",
       "한편, 최근 연구는 GPT-4가 자신의 실수를 식별하고 수정하며, 응답 품질을 정확히 평가할 수 있음을 보여주었습니다.     \n",
       "따라서 RLHF 연구를 촉진하기 위해, 우리는 2절에서 설명한 바와 같이 GPT-4를 사용하여 비교 데이터를 생성했습니다.     \n",
       "\n",
       "데이터 품질 평가를 위해, 우리는 OPT 1.3B 기반으로 보상 모델을 훈련하여 서로 다른 응답들을 평가합니다. 각 비교      \n",
       "데이터 인스턴스는 한 프롬프트 $\\textbf{\\em x}$와 $K$개의 응답을 포함하고, GPT-4는 각 응답에 대해 1부터 10까지의    \n",
       "점수 $s$를 줍니다. 이 인스턴스에서 고유한 쌍 $C_{2}^{K}$를 구성할 수 있으며, 각 쌍은 $(y_{l}, y_{h})$로 표현됩니다.\n",
       "여기서 $y_{l}$의 점수는 $y_{h}$의 점수보다 낮습니다($s_{l} < s_{h}$). 보상 모델 $r_{\\theta}$는 다음 목표로         \n",
       "훈련됩니다: $\\operatorname*{min}\\log(\\sigma(r_{\\pmb\\theta}(x,y_{h})-r_{\\pmb\\theta}(\\pmb x,y_{l})))$, 여기서        \n",
       "$\\sigma$는 시그모이드 함수입니다. 비교 데이터의 분포는 그림 2에 나타나 있습니다.                                   \n",
       "\n",
       "이 접근 방식은 보상 모델이 다양한 응답 품질을 평가하고 RLHF의 효과성을 높이는 데 도움을 줄 수 있도록               \n",
       "설계되었습니다.                                                                                                    \n",
       "\n",
       "\u001b[33m───────────────────────────────────────────────────────────────────────────────────────────────────────────────────\u001b[0m\n",
       "\n",
       "                                              \u001b[1;4m4 EXPERIMENTAL RESULTS\u001b[0m                                               \n",
       "\n",
       "It looks like the content from the '4 EXPERIMENTAL RESULTS' section is missing from your request. If you can       \n",
       "provide the full text of that section, I would be happy to explain it in detail.                                   \n",
       "\n",
       "\u001b[33m───────────────────────────────────────────────────────────────────────────────────────────────────────────────────\u001b[0m\n",
       "\n",
       "                                                  \u001b[1;4m4.1 BENCHMARKS\u001b[0m                                                   \n",
       "\n",
       "이 섹션에서는 LLM(대형 언어 모델)의 성능을 평가하기 위한 벤치마크를 소개하고, 인간 평가 방법과 그 결과를           \n",
       "설명합니다.                                                                                                        \n",
       "\n",
       "                                                     \u001b[1m벤치마크:\u001b[0m                                                     \n",
       "\n",
       "이 연구의 목표는 GPT-4 데이터를 기반으로 학습된 Self-Instruct 모델들이 새로운 지시문에 대해 얼마나 잘 반응하는지   \n",
       "평가하는 것입니다. 연구에서 사용한 데이터셋은 다음과 같습니다:                                                     \n",
       "\n",
       "\u001b[1;33m • \u001b[0m\u001b[1mUser-Oriented-Instructions- $252^{,2}$\u001b[0m: 이 데이터셋은 71개의 사용자 중심 애플리케이션(예: Grammarly,            \n",
       "\u001b[1;33m   \u001b[0mStackOverflow, Overleaf)을 기반으로 한 252개의 지시문을 포함합니다.                                             \n",
       "\u001b[1;33m • \u001b[0m\u001b[1mVicuna-Instructions- $80^{3}$\u001b[0m: GPT-4가 생성한 80개의 도전적인 질문이 포함되어 있으며, 기본 모델들이 어려워하는  \n",
       "\u001b[1;33m   \u001b[0m질문들입니다. 지식, 수학, Fermi 문제, 반사실적 시나리오, 롤플레잉, 일반, 코딩, 글쓰기, 상식 등 8개의 카테고리가 \n",
       "\u001b[1;33m   \u001b[0m있습니다.                                                                                                       \n",
       "\u001b[1;33m • \u001b[0m\u001b[1mUnnatural Instructions\u001b[0m: 68,478개의 샘플로 구성된 이 데이터셋은 15개의 수작업 예제를 사용한 3-샷 맥락 학습으로   \n",
       "\u001b[1;33m   \u001b[0mtext-davinci-002가 합성한 것입니다.                                                                             \n",
       "\n",
       "                                                    \u001b[1m인간 평가:\u001b[0m                                                     \n",
       "\n",
       "모델의 정렬 품질을 평가하기 위해 Anthropic Askell et al.(2021)에서 제안한 정렬 기준을 따랐습니다. 이 기준은 AI     \n",
       "시스템이 인간의 가치에 얼마나 잘 정렬되어 있는지를 평가하는 데 사용됩니다. 기준은 다음과 같습니다:                 \n",
       "\n",
       "\u001b[1;33m • \u001b[0m\u001b[1m도움됨\u001b[0m: 인간이 목표를 달성하는 데 도움이 되는지 여부를 평가합니다.                                              \n",
       "\u001b[1;33m • \u001b[0m\u001b[1m정직성\u001b[0m: 정확한 정보를 제공하고 필요시 불확실성을 표현하여 인간 사용자를 오도하지 않는지를 평가합니다.           \n",
       "\u001b[1;33m • \u001b[0m\u001b[1m무해성\u001b[0m: 인간에게 해를 끼치지 않는지를 평가합니다.                                                               \n",
       "\n",
       "Amazon Mechanical Turk를 통해 인간 평가를 수행했으며, 결과는 그림 3의 파이 차트에 나타나 있습니다.                 \n",
       "\n",
       "\u001b[1;33m • \u001b[0m\u001b[1m첫 번째 비교\u001b[0m: GPT-4 데이터로 미세 조정된 LLaMA 모델과 GPT-3 데이터로 미세 조정된 LLaMA 모델(Stanford Alpaca     \n",
       "\u001b[1;33m   \u001b[0m모델)을 비교하여, \"도움됨\" 기준에서 GPT-4가 54.12%로 우세했으며, \"정직성\"과 \"무해성\"에서는 GPT-3(Alpaca)이 다소 \n",
       "\u001b[1;33m   \u001b[0m우세하나 비슷한 수준의 결과를 보였습니다.                                                                       \n",
       "\u001b[1;33m • \u001b[0m\u001b[1m두 번째 비교\u001b[0m: GPT-4 지시를 따라 튜닝된 LLaMA 모델과 원래의 GPT-4 모델을 비교했으며, 세 가지 기준 모두에서 유사한\n",
       "\u001b[1;33m   \u001b[0m성능을 보여줬습니다. 이는 GPT-4가 생성한 데이터로 학습함으로써 원래 GPT-4 수준의 성능을 달성할 수 있다는 것을   \n",
       "\u001b[1;33m   \u001b[0m의미합니다.                                                                                                     \n",
       "\n",
       "                                             \u001b[1m추가 그림 설명 (그림 4):\u001b[0m                                              \n",
       "\n",
       "\u001b[1;33m • \u001b[0mGPT-4로 평가된 성능 비교를 보여줍니다. 각 막대는 두 모델 간의 평가 결과를 나타내며, 총 점수(최대 800점)와 상대  \n",
       "\u001b[1;33m   \u001b[0m점수 비율(강력한 상대 모델 대비)이 보고됩니다.                                                                  \n",
       "\u001b[1;33m • \u001b[0mLLaMA GPT4 모델의 응답을 우리 보상 모델로 평가한 결과를 나타내며, 전반적으로 ChatGPT 및 GPT-4와 비교하여 성능을 \n",
       "\u001b[1;33m   \u001b[0m평가했습니다.                                                                                                   \n",
       "\n",
       "이 연구는 GPT-4 데이터를 사용한 학습이 새로운 지시문 작업에서 뛰어난 성능을 낸다는 가능성을 시사합니다.            \n",
       "\n",
       "\u001b[33m───────────────────────────────────────────────────────────────────────────────────────────────────────────────────\u001b[0m\n",
       "\n",
       "                               \u001b[1;4m4.3 COMPARISONS WITH SOTA USING AUTOMATIC EVALUATION\u001b[0m                                \n",
       "\n",
       "이 섹션에서는 자동 평가를 사용하여 LLaMA-GPT4 모델과 다른 최첨단(State-of-the-Art, SOTA) 모델들을 비교한 결과를    \n",
       "설명합니다.                                                                                                        \n",
       "\n",
       "                                                    \u001b[1m자동 평가:\u001b[0m                                                     \n",
       "\n",
       "\u001b[1;33m • \u001b[0m\u001b[1m평가 방법\u001b[0m: GPT-4를 활용해 다양한 모델들이 80개의 새로운 질문에 대한 생성 응답의 품질을 자동 평가했습니다.       \n",
       "\u001b[1;33m   \u001b[0mLLaMA-GPT4(7B)와 GPT-4의 응답을 수집하고, Vicuna(2023)에서 공개된 다른 채팅 봇들(LLaMA 13B, Alpaca 13B, Vicuna  \n",
       "\u001b[1;33m   \u001b[0m13B, Bard, ChatGPT)의 응답을 사용했습니다. 두 모델 간의 응답 품질을 1에서 10까지의 점수로 평가했습니다.         \n",
       "\u001b[1;33m • \u001b[0m\u001b[1m결과\u001b[0m: LLaMA-GPT4를 두 가지 디코딩 결과로 평가했습니다. 첫째는 질문당 하나의 응답만을 생성하는 기본 디코딩 결과, \n",
       "\u001b[1;33m   \u001b[0m둘째는 질문당 다섯 개의 응답을 생성한 후 보상 모델이 상위에서 하위로 순위 매긴 응답 그룹입니다. 이 그룹들은 기본\n",
       "\u001b[1;33m   \u001b[0m결과와 비교되었고, 평가 결과에서 피드백 데이터와 보상 모델의 유용성을 보여줍니다.                               \n",
       "\n",
       "                                                       \u001b[1m결과:\u001b[0m                                                       \n",
       "\n",
       "\u001b[1;33m • \u001b[0mLLaMA-GPT4는 text-davinci-003(즉, Alpaca)로 튜닝한 경우보다 높은 성능을 보여주었지만, 여전히 상업용 대형        \n",
       "\u001b[1;33m   \u001b[0m챗봇(e.g., GPT-4)과 비교해서는 차이가 존재합니다.                                                               \n",
       "\u001b[1;33m • \u001b[0m\u001b[1m중국어 평가\u001b[0m: 영어 응답을 중국어로 번역한 것이나, 중국어로 직접 질문하여 생성된 응답을 비교했을 때, 번역된 응답이\n",
       "\u001b[1;33m   \u001b[0m더 우수한 성능을 보여주었습니다. 이는 GPT-4가 영어 코퍼스에서 더 많이 훈련되어 영어 지시문을 따르는 능력이 더   \n",
       "\u001b[1;33m   \u001b[0m강력하기 때문일 수 있습니다.                                                                                    \n",
       "\n",
       "                             \u001b[1m비정상 지시문(unnatural instructions)에서의 결과(그림 6):\u001b[0m                             \n",
       "\n",
       "\u001b[1;33m • \u001b[0mLLaMA-GPT4와 GPT-4, 그리고 Alpaca 모델을 비교했을 때, Alpaca가 다른 두 모델에 비해 평균 ROUGE-L 점수에서        \n",
       "\u001b[1;33m   \u001b[0m우수하였습니다. 그러나 응답의 길이가 길어질수록 LLaMA-GPT4와 GPT-4가 더 높은 성능을 보여주기 시작했습니다. 이는 \n",
       "\u001b[1;33m   \u001b[0m더 창의적인 시나리오에서 이 모델들이 지시문을 더 잘 따를 수 있다는 것을 의미합니다.                             \n",
       "\u001b[1;33m • \u001b[0m각기 다른 응답 길이 하위 집합에 대해, LLaMA-GPT4는 GPT-4의 행동을 가깝게 따릅니다. 응답 길이가 짧을 때,         \n",
       "\u001b[1;33m   \u001b[0mLLaMA-GPT4와 GPT-4는 단순한 정답을 포함하되, 응답을 더 대화형으로 만드는 추가적인 단어를 포함하기 때문에, 낮은  \n",
       "\u001b[1;33m   \u001b[0mROUGE-L 점수를 받을 가능성이 있습니다.                                                                          \n",
       "\n",
       "이 실험 결과는 LLaMA-GPT4가 GPT-4의 출력을 기반으로 학습했을 때, 상당한 성능 향상을 이룰 수 있음을 보여주며, 이는  \n",
       "혁신적인 지시문-따르기 LLM 개발에 있어서 유망한 방향임을 시사합니다.                                               \n",
       "\n",
       "\u001b[33m───────────────────────────────────────────────────────────────────────────────────────────────────────────────────\u001b[0m\n",
       "\n",
       "                                                  \u001b[1;4m5 RELATED WORK\u001b[0m                                                   \n",
       "\n",
       "이 섹션에서는 지시문 튜닝과 오픈소스 노력이 관련된 연구에 대해 설명합니다.                                         \n",
       "\n",
       "                                         \u001b[1m지시문 튜닝(Instruction Tuning):\u001b[0m                                          \n",
       "\n",
       "지시문 튜닝은 NLP 분야에서 점점 주목받고 있는 연구 방향입니다. 기존 연구들은 크게 세 가지 요소인 지시문-따르기     \n",
       "데이터, 기본 언어 모델, 평가 벤치마크의 품질과 규모를 향상시키는 것을 목표로 합니다. 각 연구 그룹은 일반적으로     \n",
       "자체적인 개발 파이프라인을 유지합니다. 예를 들어, 플랜(FLAN)을 기반으로 지시문 미세 조정 언어 모델의 규모를        \n",
       "확대하는 연구(Chung et al., 2022)나, 점점 많은 프롬프트를 포함하는 PromptSource(공공 프롬프트 풀, P3)의 개발(Bach  \n",
       "et al., 2022) 등이 있습니다. T0는 P3에 기반한 다중 과제 프롬프트 훈련을 통해 개발된 일련의 모델(Sanh et al.,       \n",
       "2021)입니다. OPT 모델의 지시문 튜닝은 더 크고 포괄적인 벤치마크인 OPT-IML Bench를 사용하여 진행되었으며, 이는 FLAN,\n",
       "Super-NaturalInstructions(Wang et al., 2022b), UnifiedSKG(Xie et al., 2022)을 포함합니다.                          \n",
       "\n",
       "                                        \u001b[1m오픈소스 노력(Open-Source Efforts):\u001b[0m                                        \n",
       "\n",
       "ChatGPT의 폭넓은 능력 덕분에, 오픈소스 모델은 큰 관심을 받으며 인간의 가치에 맞는 일반 목적의 텍스트 기반          \n",
       "어시스턴트를 개발하는 데 기여하고 있습니다. 초기의 기초 LLM 노력에는 BLOOM(Scao et al., 2022), GPT-J(Wang &        \n",
       "Komatsuzaki, 2021), GPT-NEO(Black et al., 2021), OPT(Zhang et al., 2022), LLaMA(Zhang et al., 2023)가 포함됩니다.  \n",
       "LLM을 대화 기반 어시스턴스에 맞추기 위해 Open-Assistant는 GPT-J를 기반으로 하고, Alpaca/Vicuna는 LLaMA를 기반으로  \n",
       "구축되었습니다. 또한, OpenFlamingo(Awadalla et al., 2023)와 LLaMA-Adapter(Zhang et al., 2023)는 LLaMA를 이미지     \n",
       "입력과 연결하여 오픈소스 멀티모달 LLM을 구축할 길을 마련했습니다.                                                  \n",
       "\n",
       "이러한 연구와 노력은 LLM이 더 다양하고 강력한 능력을 발휘할 수 있도록 하고, 오픈소스 환경에서의 발전을 촉진하는 데 \n",
       "그 목적이 있습니다.                                                                                                \n",
       "\n",
       "\u001b[33m───────────────────────────────────────────────────────────────────────────────────────────────────────────────────\u001b[0m\n"
      ]
     },
     "metadata": {},
     "output_type": "display_data"
    }
   ],
   "source": [
    "from rich.console import Console\n",
    "from rich.markdown import Markdown\n",
    "from rich.panel import Panel\n",
    "from rich.syntax import Syntax\n",
    "from rich.table import Table\n",
    "from typing import Dict\n",
    "import os\n",
    "\n",
    "class MarkdownPrinter:\n",
    "    def __init__(self):\n",
    "        self.console = Console()\n",
    "        \n",
    "    def print_markdown_file(self, file_path: str):\n",
    "        \"\"\"마크다운 파일을 이쁘게 출력\"\"\"\n",
    "        try:\n",
    "            with open(file_path, 'r', encoding='utf-8') as f:\n",
    "                markdown_content = f.read()\n",
    "            \n",
    "            # 마크다운 렌더링\n",
    "            md = Markdown(markdown_content)\n",
    "            \n",
    "            # 마크다운 내용 출력\n",
    "            self.console.print(md)\n",
    "            \n",
    "        except Exception as e:\n",
    "            self.console.print(f\"[bold red]Error reading file: {str(e)}[/]\")\n",
    "            \n",
    "    def print_sections(self, sections: Dict[str, str]):\n",
    "        \"\"\"섹션별로 구분하여 출력\"\"\"\n",
    "        for section, content in sections.items():\n",
    "            # 섹션 제목\n",
    "            self.console.print(\"\\n\")\n",
    "            self.console.print(Panel(\n",
    "                f\"[bold cyan]{section}[/]\",\n",
    "                border_style=\"cyan\"\n",
    "            ))\n",
    "            \n",
    "            # 섹션 내용\n",
    "            md = Markdown(content)\n",
    "            self.console.print(md)\n",
    "            \n",
    "            # 구분선\n",
    "            self.console.print(\"[dim]\" + \"=\"*80 + \"[/]\")\n",
    "\n",
    "printer = MarkdownPrinter()\n",
    "\n",
    "# 마크다운 파일 출력\n",
    "printer.print_markdown_file(output_path)"
   ]
  },
  {
   "cell_type": "code",
   "execution_count": 43,
   "metadata": {},
   "outputs": [
    {
     "name": "stdout",
     "output_type": "stream",
     "text": [
      "네, 맞습니다. ReST에서 새로운 데이터를 생성하는 과정은 원본 데이터셋을 샘플링하여 입력 시퀀스를 선택하고, 이를 기반으로 조건화된 새로운 출력 시퀀스를 생성하는 방식으로 이루어집니다. 여기서 \"조건화\"라는 것은 주어진 입력 시퀀스 \\(\\pmb{x}\\)에 대해 그 조건 하에서 가능한 출력 시퀀스 \\(\\pmb{y}\\)를 생성한다는 의미입니다.\n",
      "\n",
      "조건화는 확률적 모델링에서 매우 중요한 개념인데, 이는 주어진 입력이 어떤 특정한 상태나 값일 때의 출력 확률을 뜻합니다. 언어 모델링에서는 입력 시퀀스(또는 문맥)가 주어졌을 때 다음 가능한 출력 시퀀스를 생성하는 과정을 말합니다. 이 과정은 자동 회귀 모델을 사용하여 구현되며, 모델이 이미 학습한 확률 분포에 기반해 \\(\\pi_{\\theta}(\\pmb{y}|\\pmb{x})=\\prod_{t=1}^{T}\\pi_{\\theta}(y_{t}|\\pmb{y}_{1:t-1}, \\pmb{x})\\) 형태로 다음 토큰 \\(y_t\\)를 계산합니다.\n",
      "\n",
      "ReST에서는 이를 통해 현재 정책 \\(\\pi_{\\theta}\\)로 입력 시퀀스에 맞는 새로운 출력 시퀀스를 생성하고, 그 결과를 데이터셋에 추가하여 데이터를 확장시킵니다. 이러한 방식은 모델이 이미 알고 있는 문맥에 기반해 추가적인 학습 데이터를 생성할 수 있도록 하며, 이는 Grow 단계에서 원본 데이터셋의 샘플을 이용해 새로운 시퀀스를 생성하는 과정에서 핵심적인 역할을 합니다. 이는 Section 3의 내용을 바탕으로 설명한 것입니다.\n"
     ]
    }
   ],
   "source": [
    "question = \"\"\" \n",
    "원본 데이터 셋을 샘플링해서 입력 시퀀스에 조건화를 한 후 새로운 데이터를 생성하는 것 같은데 이게 맞아? 그리고 조건화가 뭐임?\n",
    "\"\"\"\n",
    "\n",
    "qa = PaperQA(qa.conversation_history)\n",
    "response = qa.ask_question(question)\n",
    "print(response)"
   ]
  }
 ],
 "metadata": {
  "kernelspec": {
   "display_name": "Python 3",
   "language": "python",
   "name": "python3"
  },
  "language_info": {
   "codemirror_mode": {
    "name": "ipython",
    "version": 3
   },
   "file_extension": ".py",
   "mimetype": "text/x-python",
   "name": "python",
   "nbconvert_exporter": "python",
   "pygments_lexer": "ipython3",
   "version": "3.12.4"
  }
 },
 "nbformat": 4,
 "nbformat_minor": 2
}
